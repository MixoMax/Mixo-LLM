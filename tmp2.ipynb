{
 "cells": [
  {
   "cell_type": "code",
   "execution_count": 9,
   "metadata": {},
   "outputs": [],
   "source": [
    "import json\n",
    "from nltk.tokenize import sent_tokenize"
   ]
  },
  {
   "cell_type": "code",
   "execution_count": 13,
   "metadata": {},
   "outputs": [],
   "source": [
    "data = {\"batchcomplete\":\"\",\"query\":{\"normalized\":[{\"from\":\"Abdulla_Aripov\",\"to\":\"Abdulla Aripov\"}],\"pages\":{\"52574279\":{\"pageid\":52574279,\"ns\":0,\"title\":\"Abdulla Aripov\",\"extract\":\"Abdulla Nigmatovich Aripov (Uzbek: Abdulla Nig\\u02bbmatovich Oripov, born 24 May 1961, in Tashkent) is an Uzbek politician who serves as the prime minister of Uzbekistan, in office since 14 December 2016. Aripov is a member of the Uzbekistan Liberal Democratic Party. He was deputy prime minister from 2002 to 2012 and again in 2016.\\n\\n\\nCareer\\n\\n\\nPolitics\\nOn May 30, 2002 Aripov was appointed as Deputy Prime Minister of Uzbekistan \\u2013 Head of Complex on Information and Telecommunications Technologies Issues \\u2013 Director-General of Communications and Information Agency of Uzbekistan. Then from October 2009 \\u2013 oversees the Social Sphere, Science, Education, Health, Culture and responsible for contacts with CIS-partners. On February 4, 2005 Aripov was appointed as Deputy Prime Minister. Then in a reshuffle in August 2012 he was appointed Head of Complex on Information Systems and Telecommunications.In September 2016 he was again appointed as Deputy Prime Minister.On 12 December 2016, he was nominated by the ruling party to form a cabinet. On 14 December, he was confirmed as Prime Minister by the parliament. On 15 December, he formed his cabinet.\\n\\n\\nPersonal life\\nAripov is married and has five daughters. He is a recipient of the state awards Ordens \\u201cDo\\u2019stlik\\u201d and \\u201cMehnat shuhrati\\u201d (Friendship and Labor Glory).\\n\\n\\nReferences\"}}}}\n",
    "with open(\"./data/1.txt\", \"w\") as f:\n",
    "    txt = data[\"query\"][\"pages\"][\"52574279\"][\"extract\"]\n",
    "    sentences = sent_tokenize(txt)\n",
    "    sentences = [sentence.replace(\"\\n\", \" \") for sentence in sentences]\n",
    "    sentences = [sentence for sentence in sentences if not sentence.strip() == \"\"]\n",
    "    for sentence in sentences:\n",
    "        f.write(sentence + \"\\n\")\n",
    "    f.close()"
   ]
  }
 ],
 "metadata": {
  "kernelspec": {
   "display_name": "base",
   "language": "python",
   "name": "python3"
  },
  "language_info": {
   "codemirror_mode": {
    "name": "ipython",
    "version": 3
   },
   "file_extension": ".py",
   "mimetype": "text/x-python",
   "name": "python",
   "nbconvert_exporter": "python",
   "pygments_lexer": "ipython3",
   "version": "3.12.3"
  }
 },
 "nbformat": 4,
 "nbformat_minor": 2
}
