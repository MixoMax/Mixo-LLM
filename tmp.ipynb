{
 "cells": [
  {
   "cell_type": "code",
   "execution_count": null,
   "metadata": {},
   "outputs": [],
   "source": [
    "from datasets import load_dataset\n",
    "import json\n",
    "from tqdm import tqdm\n",
    "from nltk.tokenize import sent_tokenize"
   ]
  },
  {
   "cell_type": "code",
   "execution_count": null,
   "metadata": {},
   "outputs": [],
   "source": [
    "ds = load_dataset(\"bene-ges/wikipedia_en\")"
   ]
  },
  {
   "cell_type": "code",
   "execution_count": null,
   "metadata": {},
   "outputs": [],
   "source": [
    "max_chars_per_file = 10_000_000\n",
    "\n",
    "current_text = \"\"\n",
    "file_index = 0\n",
    "for i in tqdm(range(len(ds[\"train\"])), total=len(ds[\"train\"])):\n",
    "    data = json.loads(ds[\"train\"][i][\"txt\"])\n",
    "    try:\n",
    "        txt = data[\"query\"][\"pages\"][list(data[\"query\"][\"pages\"].keys())[0]][\"extract\"]\n",
    "    except KeyError:\n",
    "        continue\n",
    "    current_text += txt\n",
    "    if len(current_text) >= max_chars_per_file:\n",
    "        with open(f\"./data/wiki_{file_index}.txt\", \"w\") as f:\n",
    "            sentences = sent_tokenize(current_text)\n",
    "            sentences = [sentence.replace(\"\\n\", \" \") for sentence in sentences]\n",
    "            sentences = [sentence for sentence in sentences if not sentence.strip() == \"\"]\n",
    "            f.write(\"\\n\".join(sentences))\n",
    "        \n",
    "\n",
    "        current_text = \"\"\n",
    "        file_index += 1\n"
   ]
  }
 ],
 "metadata": {
  "kernelspec": {
   "display_name": "base",
   "language": "python",
   "name": "python3"
  },
  "language_info": {
   "codemirror_mode": {
    "name": "ipython",
    "version": 3
   },
   "file_extension": ".py",
   "mimetype": "text/x-python",
   "name": "python",
   "nbconvert_exporter": "python",
   "pygments_lexer": "ipython3",
   "version": "3.12.3"
  }
 },
 "nbformat": 4,
 "nbformat_minor": 2
}
