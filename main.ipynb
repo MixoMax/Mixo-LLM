{
 "cells": [
  {
   "cell_type": "code",
   "execution_count": 1,
   "metadata": {},
   "outputs": [
    {
<<<<<<< HEAD
     "name": "stdout",
     "output_type": "stream",
     "text": [
      "\u001b[2K   \u001b[91m━━━━━━━━━━━━\u001b[0m\u001b[90m╺\u001b[0m\u001b[90m━━━━━━━━━━━━━━━━━━━━━━━━━━━\u001b[0m \u001b[32m228.2/731.7 MB\u001b[0m \u001b[31m6.8 MB/s\u001b[0m eta \u001b[36m0:01:14\u001b[0m\u001b[31mERROR: Could not install packages due to an OSError: [Errno 28] No space left on device\n",
      "\u001b[0m\u001b[31m\n",
      "\u001b[2K   \u001b[91m━━━━━━━━━━━━\u001b[0m\u001b[90m╺\u001b[0m\u001b[90m━━━━━━━━━━━━━━━━━━━━━━━━━━━\u001b[0m \u001b[32m228.3/731.7 MB\u001b[0m \u001b[31m6.8 MB/s\u001b[0m eta \u001b[36m0:01:14\u001b[0m\n",
      "\u001b[?25hNote: you may need to restart the kernel to use updated packages.\n"
     ]
    }
   ],
   "source": [
    "%pip install requests jsonlines tqdm torch"
   ]
  },
  {
   "cell_type": "code",
   "execution_count": 2,
   "metadata": {},
   "outputs": [],
=======
     "name": "stderr",
     "output_type": "stream",
     "text": [
      "c:\\Python311\\Lib\\site-packages\\tqdm\\auto.py:21: TqdmWarning: IProgress not found. Please update jupyter and ipywidgets. See https://ipywidgets.readthedocs.io/en/stable/user_install.html\n",
      "  from .autonotebook import tqdm as notebook_tqdm\n"
     ]
    }
   ],
>>>>>>> 7348b06fb4c521f6b20b737c62b4b714b40561fa
   "source": [
    "from transformers import AutoTokenizer, AutoModelForCausalLM\n",
    "import transformers\n",
    "import torch\n",
    "from transformers import Trainer, TrainingArguments, DataCollatorForLanguageModeling\n",
    "from datasets import load_dataset, Dataset\n",
    "from bitnet_158 import BitLinear, BitLinear158, inject\n",
    "from transformers import TrainerCallback\n",
    "import jsonlines\n",
<<<<<<< HEAD
    "from tqdm import tqdm\n",
    "import sys\n",
    "import random\n",
    "import fileinput"
   ]
  },
  {
   "cell_type": "code",
   "execution_count": null,
   "metadata": {},
   "outputs": [],
   "source": [
    "dataset_urls = [ #(url, filename)\n",
    "    (\"https://huggingface.co/datasets/nvidia/OpenMathInstruct-1/resolve/main/correct_solutions/train.jsonl?download=true\", \"Nvidia_OpenMathInstruct-1_train.jsonl\"),\n",
    "    (\"https://huggingface.co/datasets/OpenAssistant/oasst1/resolve/main/2023-04-12_oasst_all.messages.jsonl.gz?download=true\", \"OpenAssistant_oasst1_2023-04-12_oasst_all.messages.jsonl.gz\"),\n",
    "    (\"https://huggingface.co/datasets/liuhaotian/LLaVA-Instruct-150K/resolve/main/llava_instruct_150k.json?download=true\", \"LLaVA-Instruct-150K_llava_instruct_150k.json\"),\n",
    "    (\"https://huggingface.co/datasets/liuhaotian/LLaVA-Instruct-150K/resolve/main/llava_v1_5_mix665k.json?download=true\", \"LLaVA-Instruct-150K_llava_v1_5_mix665k.json\"),\n",
    "    (\"https://huggingface.co/datasets/nomic-ai/gpt4all-j-prompt-generations/resolve/main/data/train-00000-of-00004-49a07627b3b5bdbe.parquet?download=true\", \"NomicAI_gpt4all-j-prompt-generations_train-0-of-4.parquet\"),\n",
    "    (\"https://huggingface.co/datasets/nomic-ai/gpt4all-j-prompt-generations/resolve/main/data/train-00001-of-00004-62d2ea1ccbf3c546.parquet?download=true\", \"NomicAI_gpt4all-j-prompt-generations_train-1-of-4.parquet\"),\n",
    "    (\"https://huggingface.co/datasets/nomic-ai/gpt4all-j-prompt-generations/resolve/main/data/train-00002-of-00004-5d4368eca33ee435.parquet?download=true\", \"NomicAI_gpt4all-j-prompt-generations_train-2-of-4.parquet\"),\n",
    "    (\"https://huggingface.co/datasets/nomic-ai/gpt4all-j-prompt-generations/resolve/main/data/train-00003-of-00004-ef0356d35c1172f0.parquet?download=true\", \"NomicAI_gpt4all-j-prompt-generations_train-3-of-4.parquet\"),\n",
    "    (\"https://huggingface.co/datasets/Open-Orca/SlimOrca/resolve/main/oo-labeled_correct.gpt4.sharegpt.jsonl?download=true\", \"Open-Orca_SlimOrca_oo-labeled_correct.gpt4.sharegpt.jsonl\"),\n",
    "    (\"https://huggingface.co/datasets/openbmb/UltraFeedback/resolve/main/ultrachat.jsonl?download=true\", \"OpenBMB_UltraFeedback_ultrachat.jsonl\"),\n",
    "    (\"https://huggingface.co/datasets/openbmb/UltraFeedback/resolve/main/sharegpt.jsonl?download=true\", \"OpenBMB_UltraFeedback_sharegpt.jsonl\")\n",
    "]\n",
    "\n",
    "for url, filename in dataset_urls:\n",
    "    filename = \"./data/\" + filename\n",
    "    if not os.path.exists(filename):\n",
    "        print(f\"Downloading {filename}\")\n",
    "        r = requests.get(url, allow_redirects=True)\n",
    "        open(filename, \"wb\").write(r.content)\n",
    "    else:\n",
    "        print(f\"{filename} already exists\")"
   ]
  },
  {
   "cell_type": "code",
   "execution_count": 3,
   "metadata": {},
   "outputs": [],
   "source": [
    "class Message:\n",
    "    author: str # either \"user\" or \"assistant\"\n",
    "    text: str\n",
    "    def __init__(self, author, text):\n",
    "        self.author = author\n",
    "        self.text = text\n",
    "    \n",
    "    def __str__(self):\n",
    "        return f\"{self.author}: {self.text}\"\n",
    "    \n",
    "    def __hash__(self) -> int:\n",
    "        return hash((self.author, self.text))\n",
    "\n",
    "class Conversation:\n",
    "    messages: list[Message]\n",
    "    system_prompt: str\n",
    "    \n",
    "    def __init__(self, messages, system_prompt=\"\"):\n",
    "        self.messages = messages\n",
    "        self.system_prompt = system_prompt\n",
    "    \n",
    "    def __str__(self):\n",
    "        return self.system_prompt + str(len(self.messages)) + \" messages:\\n\" + \"\\n\".join([str(m) for m in self.messages[:10]]) + \"...\"\n",
    "    \n",
    "    def __hash__(self) -> int:\n",
    "        return hash(tuple(self.messages))\n",
    "    \n",
    "def from_LLava_json(filepath) -> list[Conversation]:\n",
    "    print(f\"Loading {filepath}\")\n",
    "    # [x] working\n",
    "    # LLava json is in this format:\n",
    "    \"\"\"\n",
    "    [\n",
    "        {\n",
    "            \"id\": 0,\n",
    "            \"conversations\": [\n",
    "                {\n",
    "                    \"from\": \"human\",\n",
    "                    \"value\": TEXT\n",
    "                },\n",
    "                {\n",
    "                    \"from\": \"gpt\",\n",
    "                    \"value\": TEXT\n",
    "                }\n",
    "                ...\n",
    "            ]\n",
    "        },\n",
    "        ...\n",
    "    ]\n",
    "    \"\"\"\n",
    "    with open(filepath, \"r\") as f:\n",
    "        data = json.load(f)\n",
    "        conversations = []\n",
    "        for conversation in tqdm(data):\n",
    "            messages = []\n",
    "            for message in conversation[\"conversations\"]:\n",
    "                if message[\"from\"] == \"human\":\n",
    "                    author = \"user\"\n",
    "                else:\n",
    "                    author = \"assistant\"\n",
    "                messages.append(Message(author, message[\"value\"]))\n",
    "            conversations.append(Conversation(messages))\n",
    "    \n",
    "    return conversations\n",
    "\n",
    "def from_Nvidia_OMI_jsonl(filepath) -> list[Conversation]:\n",
    "    print(f\"Loading {filepath}\")\n",
    "    # [x] working\n",
    "    # Nvidia OMI jsonl is in this format:\n",
    "    \"\"\"\n",
    "    {\"question\": TEXT, \"expected_answer\": TEXT}\n",
    "    ...\n",
    "    \"\"\"\n",
    "    with jsonlines.open(filepath) as reader:\n",
    "        conversations = []\n",
    "        for obj in tqdm(reader):\n",
    "            messages = [Message(\"user\", obj[\"question\"]), Message(\"assistant\", obj[\"expected_answer\"])]\n",
    "            conversations.append(Conversation(messages))\n",
    "    return conversations\n",
    "\n",
    "def from_OpenBMB_UltraFeedback_jsonl(filepath) -> list[Conversation]:\n",
    "    print(f\"Loading {filepath}\")\n",
    "    # [x] working\n",
    "    # OpenBMB jsonl is in this format:\n",
    "    \"\"\"\n",
    "    {\"source\": \"sharegpt\", \"instruction\": USER_INPUT, \"completions\": [ {\"response\": ASSISTANT_OUTPUT, \"custom_system_prompt\": SYSTEM_PROMPT}, ... ]}\n",
    "    \"\"\"\n",
    "\n",
    "    with jsonlines.open(filepath) as reader:\n",
    "        conversations = []\n",
    "        for obj in tqdm(reader):\n",
    "            user_message = Message(\"user\", obj[\"instruction\"])\n",
    "            \n",
    "            for completion in obj[\"completions\"]:\n",
    "                assistant_message = Message(\"assistant\", completion[\"response\"])\n",
    "                system_prompt = completion[\"custom_system_prompt\"]\n",
    "                conversations.append(Conversation([user_message, assistant_message], system_prompt))\n",
    "    return conversations\n",
    "\n",
    "def from_OpenOrca_jsonl(filepath) -> list[Conversation]:\n",
    "    print(f\"Loading {filepath}\")\n",
    "    # [ ] working\n",
    "    # OpenOrca jsonl is in this format:\n",
    "    \"\"\"\n",
    "    {\"conversations\": [{\"from\": \"system\", \"value\": SYSTEM_PROMPT}, {\"from\": \"human\", \"value\": USER_INPUT}, {\"from\": \"gpt\", \"value\": ASSISTANT_OUTPUT}]}\n",
    "    \"\"\"\n",
    "    \n",
    "    with jsonlines.open(filepath) as reader:\n",
    "        conversations = []\n",
    "        for obj in tqdm(reader):\n",
    "            messages = []\n",
    "            system_prompt = \"\"\n",
    "            for json_obj in obj[\"conversations\"]:\n",
    "\n",
    "                if json_obj[\"from\"] == \"system\":\n",
    "                    system_prompt = json_obj[\"value\"]\n",
    "                else:\n",
    "                    if json_obj[\"from\"] == \"human\":\n",
    "                        author = \"user\"\n",
    "                    else:\n",
    "                        author = \"assistant\"\n",
    "                    messages.append(Message(author, json_obj[\"value\"]))\n",
    "\n",
    "            conversations.append(Conversation(messages, system_prompt))\n",
    "    return conversations\n",
    "\n",
    "def from_OASST_jsonl(filepath) -> list[Conversation]:\n",
    "    # [ ] working\n",
    "    # OASST jsonl is in this format:\n",
    "    pass\n",
    "\n",
    "def from_own_format(filepath) -> list[Conversation]:\n",
    "    # [ ] working\n",
    "    # own format is in this format:\n",
    "    # {\"system_prompt\": SYSTEM_PROMPT, \"messages\": [{\"author\": \"user\", \"text\": USER_INPUT}, {\"author\": \"assistant\", \"text\": ASSISTANT_OUTPUT}]}\n",
    "\n",
    "    with jsonlines.open(filepath) as reader:\n",
    "        conversations = []\n",
    "        for obj in tqdm(reader):\n",
    "            messages = [Message(m[\"author\"], m[\"text\"]) for m in obj[\"messages\"]]\n",
    "            conversations.append(Conversation(messages, obj[\"system_prompt\"]))\n",
    "    return conversations"
   ]
  },
  {
   "cell_type": "code",
   "execution_count": 3,
   "metadata": {},
   "outputs": [
    {
     "name": "stdout",
     "output_type": "stream",
     "text": [
      "Loading ./data/LLaVA-Instruct-150K_llava_instruct_150k.json\n"
     ]
    },
    {
     "name": "stderr",
     "output_type": "stream",
     "text": [
      "100%|██████████| 157712/157712 [00:02<00:00, 74816.63it/s]\n"
     ]
    },
    {
     "name": "stdout",
     "output_type": "stream",
     "text": [
      "Loading ./data/LLaVA-Instruct-150K_llava_v1_5_mix665k.json\n"
     ]
    },
    {
     "name": "stderr",
     "output_type": "stream",
     "text": [
      "100%|██████████| 665298/665298 [00:17<00:00, 37168.35it/s] \n"
     ]
    },
    {
     "name": "stdout",
     "output_type": "stream",
     "text": [
      "Loading ./data/Nvidia_OpenMathInstruct-1_train.jsonl\n"
     ]
    },
    {
     "name": "stderr",
     "output_type": "stream",
     "text": [
      "1579780it [00:27, 57497.66it/s]\n"
     ]
    },
    {
     "name": "stdout",
     "output_type": "stream",
     "text": [
      "Loading ./data/OpenBMB_UltraFeedback_sharegpt.jsonl\n"
     ]
    },
    {
     "name": "stderr",
     "output_type": "stream",
     "text": [
      "19949it [00:02, 7208.04it/s]\n"
     ]
    },
    {
     "name": "stdout",
     "output_type": "stream",
     "text": [
      "Loading ./data/OpenBMB_UltraFeedback_ultrachat.jsonl\n"
     ]
    },
    {
     "name": "stderr",
     "output_type": "stream",
     "text": [
      "9929it [00:01, 7470.47it/s]\n"
     ]
    },
    {
     "name": "stdout",
     "output_type": "stream",
     "text": [
      "Loading ./data/Open-Orca_SlimOrca_oo-labeled_correct.gpt4.sharegpt.jsonl\n"
     ]
    },
    {
     "name": "stderr",
     "output_type": "stream",
     "text": [
      "517982it [00:14, 35391.36it/s]\n",
      "100%|██████████| 3040280/3040280 [01:14<00:00, 40610.06it/s]\n"
     ]
    },
    {
     "name": "stdout",
     "output_type": "stream",
     "text": [
      "Done!\n"
     ]
    }
   ],
   "source": [
    "# write all conversations to a single jsonl file\n",
    "conversations = []\n",
    "conversations.extend(from_LLava_json(\"./data/LLaVA-Instruct-150K_llava_instruct_150k.json\"))\n",
    "conversations.extend(from_LLava_json(\"./data/LLaVA-Instruct-150K_llava_v1_5_mix665k.json\"))\n",
    "conversations.extend(from_Nvidia_OMI_jsonl(\"./data/Nvidia_OpenMathInstruct-1_train.jsonl\"))\n",
    "conversations.extend(from_OpenBMB_UltraFeedback_jsonl(\"./data/OpenBMB_UltraFeedback_sharegpt.jsonl\"))\n",
    "conversations.extend(from_OpenBMB_UltraFeedback_jsonl(\"./data/OpenBMB_UltraFeedback_ultrachat.jsonl\"))\n",
    "conversations.extend(from_OpenOrca_jsonl(\"./data/Open-Orca_SlimOrca_oo-labeled_correct.gpt4.sharegpt.jsonl\"))\n",
    "\n",
    "with jsonlines.open(\"./data/conversations.jsonl\", \"w\") as writer:\n",
    "    for conversation in tqdm(conversations):\n",
    "        json_obj = {\"system_prompt\": conversation.system_prompt, \"messages\": [{\"author\": m.author, \"text\": m.text} for m in conversation.messages]}\n",
    "        writer.write(json_obj)\n",
    "\n",
    "print(\"Done!\")"
   ]
  },
  {
   "cell_type": "code",
   "execution_count": 4,
   "metadata": {},
   "outputs": [
    {
     "name": "stderr",
     "output_type": "stream",
     "text": [
      "3040280it [01:11, 42597.21it/s] \n"
     ]
    }
   ],
   "source": [
    "conversations = from_own_format(\"./data/conversations.jsonl\")"
   ]
  },
  {
   "cell_type": "code",
   "execution_count": 5,
   "metadata": {},
   "outputs": [
    {
     "name": "stdout",
     "output_type": "stream",
     "text": [
      "3040280\n"
     ]
    }
   ],
   "source": [
    "print(len(conversations))"
   ]
  },
  {
   "cell_type": "code",
   "execution_count": 6,
   "metadata": {},
   "outputs": [
    {
     "name": "stderr",
     "output_type": "stream",
     "text": [
      "100%|██████████| 3040280/3040280 [00:41<00:00, 73736.04it/s] "
     ]
    },
    {
     "name": "stdout",
     "output_type": "stream",
     "text": [
      "2257941\n"
     ]
    },
    {
     "name": "stderr",
     "output_type": "stream",
     "text": [
      "\n"
     ]
    }
   ],
   "source": [
    "# filter out everything that contains \"<image>\" or \"<url>\" and remove duplicates\n",
    "conversations_filtered = set()\n",
    "for conversation in tqdm(conversations):\n",
    "    if \"<image>\" in str(conversation) or \"<url>\" in str(conversation):\n",
    "        continue\n",
    "    conversations_filtered.add(conversation)\n",
    "\n",
    "print(len(conversations_filtered))\n"
   ]
  },
  {
   "cell_type": "code",
   "execution_count": 7,
   "metadata": {},
   "outputs": [
    {
     "name": "stderr",
     "output_type": "stream",
     "text": [
      "100%|██████████| 2257941/2257941 [00:11<00:00, 197732.40it/s]\n",
      "100%|██████████| 690670/690670 [00:03<00:00, 192104.26it/s]\n"
     ]
    }
   ],
   "source": [
    "all_text_arr = set()\n",
    "for conversation in tqdm(conversations_filtered):\n",
    "    convo_arr = []\n",
    "    for message in conversation.messages:\n",
    "        convo_arr.append(\"<|\" + message.author + \"|> \" + message.text.replace(\"\\n\", \"<|br|>\")  + \"<|end|>\")\n",
    "    \n",
    "    convo_str = \"<|system|> \" + conversation.system_prompt.replace(\"\\n\", \"<|br|>\") + \"<|end|>\" + \"\".join(convo_arr)\n",
    "    all_text_arr.add(convo_str)\n",
    "\n",
    "\n",
    "\n",
    "with open(\"./data/all_text.txt\", \"w\", encoding=\"utf-8\") as f:\n",
    "    for line in tqdm(all_text_arr):\n",
    "        f.write(line + \"\\n\")"
   ]
  },
  {
   "cell_type": "code",
   "execution_count": 12,
   "metadata": {},
   "outputs": [
    {
     "name": "stderr",
     "output_type": "stream",
     "text": [
      "  0%|          | 0/690670 [00:00<?, ?it/s]"
     ]
    },
    {
     "name": "stderr",
     "output_type": "stream",
     "text": [
      "100%|██████████| 690670/690670 [07:10<00:00, 1605.20it/s]\n"
     ]
    }
   ],
   "source": [
    "# build a custom tokenizer\n",
    "# generate a vocab list\n",
    "# find the most common words, char combinations and chars\n",
    "\n",
    "vocab = {}\n",
    "for line in tqdm(all_text_arr):\n",
    "    for word in line.split():\n",
    "        vocab[word] = vocab.get(word, 0) + 1\n",
    "    \n",
    "    for char in line:\n",
    "        vocab[char] = vocab.get(char, 0) + 1\n",
    "    \n",
    "    continue\n",
    "\n",
    "    for w_size in range(2, 4):\n",
    "        for i in range(len(line) - w_size):\n",
    "            vocab[line[i:i+w_size]] = vocab.get(line[i:i+w_size], 0) + 1"
   ]
  },
  {
   "cell_type": "code",
   "execution_count": 13,
   "metadata": {},
   "outputs": [],
   "source": [
    "with open(\"./data/vocab.json\", \"w\", encoding=\"utf-8\") as f:\n",
    "    json.dump(vocab, f, ensure_ascii=False, indent=4)"
   ]
  },
  {
   "cell_type": "code",
   "execution_count": 14,
   "metadata": {},
   "outputs": [
    {
     "name": "stderr",
     "output_type": "stream",
     "text": [
      "100%|██████████| 5221896/5221896 [00:02<00:00, 2358671.91it/s]\n"
     ]
    },
    {
     "name": "stdout",
     "output_type": "stream",
     "text": [
      "153331\n"
     ]
    }
   ],
   "source": [
    "vocab_filtered = {}\n",
    "\n",
    "for key, value in tqdm(vocab.items()):\n",
    "    if value > 35:\n",
    "        vocab_filtered[key] = value\n",
    "\n",
    "vocab_filtered = sorted(vocab_filtered.items(), key=lambda x: x[1], reverse=True)\n",
    "\n",
    "print(len(vocab_filtered))\n",
    "\n",
    "max_vocab_size = 32_000\n",
    "vocab_filtered = vocab_filtered[:max_vocab_size]"
   ]
  },
  {
   "cell_type": "code",
   "execution_count": 15,
   "metadata": {},
   "outputs": [],
   "source": [
    "with open(\"./data/vocab_filtered.json\", \"w\", encoding=\"utf-8\") as f:\n",
    "    json.dump(vocab_filtered, f, ensure_ascii=False, indent=4)"
   ]
  },
  {
   "cell_type": "code",
   "execution_count": 16,
   "metadata": {},
   "outputs": [
    {
     "name": "stdout",
     "output_type": "stream",
     "text": [
      "30763\n"
     ]
    }
   ],
   "source": [
    "vocab_final = { # token_str: token_id\n",
    "    \"<|system|>\": 0,\n",
    "    \"<|user|>\": 1,\n",
    "    \"<|assistant|>\": 2,\n",
    "    \"<|end|>\": 3,\n",
    "    \"<|br|>\": 4\n",
    "}\n",
    "for i, (key, value) in enumerate(vocab_filtered):\n",
    "    if \"<\" in key or \">\" in key or \"|\" in key:\n",
    "        continue\n",
    "    vocab_final[key] = len(vocab_final)\n",
    "\n",
    "print(len(vocab_final))\n",
    "\n",
    "with open(\"./data/vocab_final.json\", \"w\", encoding=\"utf-8\") as f:\n",
    "    json.dump(vocab_final, f, ensure_ascii=False, indent=4)"
=======
    "import json\n",
    "from tqdm import tqdm"
>>>>>>> 7348b06fb4c521f6b20b737c62b4b714b40561fa
   ]
  },
  {
   "cell_type": "code",
   "execution_count": 4,
   "metadata": {},
   "outputs": [],
   "source": [
    "# necessary for chosing the tokenizer\n",
    "model_id = \"TinyLlama/TinyLlama-1.1B-Chat-v1.0\""
   ]
  },
  {
   "cell_type": "code",
   "execution_count": 5,
   "metadata": {},
   "outputs": [],
   "source": [
<<<<<<< HEAD
    "class Tokenizer:\n",
    "    __vocab: dict[str, int]\n",
    "    __vocab_reversed: dict[int, str]\n",
    "    __vocab_size: int\n",
    "\n",
    "    def __init__(self, vocab: dict[str, int]):\n",
    "        self.__vocab = vocab\n",
    "        self.__vocab_reversed = {v: k for k, v in vocab.items()}\n",
    "        self.__vocab_size = len(vocab)\n",
    "    \n",
    "    def encode(self, text: str) -> list[int]:\n",
    "        out_tokens = []\n",
    "        \n",
    "        current_substring = \"\"\n",
    "        for char in text:\n",
    "            current_substring += char\n",
    "            if current_substring in self.__vocab:\n",
    "                out_tokens.append(self.__vocab[current_substring])\n",
    "                current_substring = \"\"\n",
    "        \n",
    "        return out_tokens\n",
    "    \n",
    "    def decode(self, tokens: list[int]) -> str:\n",
    "        return \"\".join([self.__vocab_reversed[t] for t in tokens])\n",
    "    \n",
    "    def vocab_size(self) -> int:\n",
    "        return self.__vocab_size"
   ]
  },
  {
   "cell_type": "code",
   "execution_count": 20,
   "metadata": {},
   "outputs": [
    {
     "name": "stderr",
     "output_type": "stream",
     "text": [
      "14067it [00:08, 1668.05it/s]\n"
     ]
    },
    {
     "ename": "KeyboardInterrupt",
     "evalue": "",
     "output_type": "error",
     "traceback": [
      "\u001b[0;31m---------------------------------------------------------------------------\u001b[0m",
      "\u001b[0;31mKeyboardInterrupt\u001b[0m                         Traceback (most recent call last)",
      "Cell \u001b[0;32mIn[20], line 11\u001b[0m\n\u001b[1;32m      9\u001b[0m \u001b[38;5;28;01mwith\u001b[39;00m fileinput\u001b[38;5;241m.\u001b[39minput(files\u001b[38;5;241m=\u001b[39m(\u001b[38;5;124m\"\u001b[39m\u001b[38;5;124m./data/all_text.txt\u001b[39m\u001b[38;5;124m\"\u001b[39m), encoding\u001b[38;5;241m=\u001b[39m\u001b[38;5;124m\"\u001b[39m\u001b[38;5;124mutf-8\u001b[39m\u001b[38;5;124m\"\u001b[39m) \u001b[38;5;28;01mas\u001b[39;00m f:\n\u001b[1;32m     10\u001b[0m     \u001b[38;5;28;01mfor\u001b[39;00m line \u001b[38;5;129;01min\u001b[39;00m tqdm(f):\n\u001b[0;32m---> 11\u001b[0m         tokens \u001b[38;5;241m=\u001b[39m \u001b[43mtokenizer\u001b[49m\u001b[38;5;241;43m.\u001b[39;49m\u001b[43mencode\u001b[49m\u001b[43m(\u001b[49m\u001b[43mline\u001b[49m\u001b[43m)\u001b[49m\n\u001b[1;32m     13\u001b[0m         \u001b[38;5;66;03m# find system token\u001b[39;00m\n\u001b[1;32m     14\u001b[0m         \u001b[38;5;28;01mif\u001b[39;00m \u001b[38;5;241m0\u001b[39m \u001b[38;5;129;01mnot\u001b[39;00m \u001b[38;5;129;01min\u001b[39;00m tokens:\n",
      "Cell \u001b[0;32mIn[19]\u001b[0m, in \u001b[0;36mTokenizer.encode\u001b[0;34m(self, text)\u001b[0m\n\u001b[1;32m      0\u001b[0m <Error retrieving source code with stack_data see ipython/ipython#13598>\n",
      "\u001b[0;31mKeyboardInterrupt\u001b[0m: "
     ]
    }
   ],
   "source": [
    "# Phase 3:\n",
    "# Tokenize the text\n",
    "# generate training pairs\n",
    "\n",
    "tokenizer = Tokenizer(vocab_final)\n",
    "\n",
    "data_pairs = []\n",
    "\n",
    "with fileinput.input(files=(\"./data/all_text.txt\"), encoding=\"utf-8\") as f:\n",
    "    for line in tqdm(f):\n",
    "        tokens = tokenizer.encode(line)\n",
    "\n",
    "        # find system token\n",
    "        if 0 not in tokens:\n",
    "            system_prompt = []\n",
    "            system_token_idx = 0\n",
    "        else:\n",
    "            system_token_idx = tokens.index(0)\n",
    "            system_prompt = tokens[:system_token_idx]\n",
    "        \n",
    "        # find user token\n",
    "        if 1 not in tokens:\n",
    "            user_token_idx = system_token_idx\n",
    "            user_message = []\n",
    "        else:\n",
    "            user_token_idx = tokens.index(1)\n",
    "            user_message = tokens[system_token_idx:user_token_idx]\n",
    "        \n",
    "        # find assistant token\n",
    "        if 2 not in tokens:\n",
    "            assistant_token_idx = user_token_idx\n",
    "            assistant_message = []\n",
    "        else:\n",
    "            assistant_token_idx = tokens.index(2)\n",
    "            assistant_message = tokens[user_token_idx:assistant_token_idx]\n",
    "        \n",
    "        data_pairs.append((system_prompt, user_message, assistant_message))\n",
    "\n",
    "# save to jsonl\n",
    "with jsonlines.open(\"./data/data_pairs.jsonl\", \"w\") as writer:\n",
    "    for pair in tqdm(data_pairs):\n",
    "        writer.write({\"system_prompt\": pair[0], \"user_message\": pair[1], \"assistant_message\": pair[2]})"
=======
    "tokenizer = AutoTokenizer.from_pretrained(model_id)\n",
    "tokenizer.pad_token = tokenizer.eos_token"
>>>>>>> 7348b06fb4c521f6b20b737c62b4b714b40561fa
   ]
  },
  {
   "cell_type": "code",
   "execution_count": 6,
   "metadata": {},
   "outputs": [],
   "source": [
    "model = AutoModelForCausalLM.from_pretrained(\n",
    "    model_id,\n",
    "    torch_dtype=torch.float16,\n",
    "    use_cache=True\n",
    ")\n"
   ]
  },
  {
   "cell_type": "code",
<<<<<<< HEAD
   "execution_count": 22,
   "metadata": {},
   "outputs": [
    {
     "ename": "ModuleNotFoundError",
     "evalue": "No module named 'torch'",
     "output_type": "error",
     "traceback": [
      "\u001b[0;31m---------------------------------------------------------------------------\u001b[0m",
      "\u001b[0;31mModuleNotFoundError\u001b[0m                       Traceback (most recent call last)",
      "Cell \u001b[0;32mIn[22], line 5\u001b[0m\n\u001b[1;32m      1\u001b[0m \u001b[38;5;66;03m# Phase 4:\u001b[39;00m\n\u001b[1;32m      2\u001b[0m \u001b[38;5;66;03m# Train a model\u001b[39;00m\n\u001b[1;32m      3\u001b[0m \u001b[38;5;66;03m# model is trained on the generated training pairs\u001b[39;00m\n\u001b[0;32m----> 5\u001b[0m \u001b[38;5;28;01mimport\u001b[39;00m \u001b[38;5;21;01mtorch\u001b[39;00m\n\u001b[1;32m      6\u001b[0m \u001b[38;5;28;01mimport\u001b[39;00m \u001b[38;5;21;01mtorch\u001b[39;00m\u001b[38;5;21;01m.\u001b[39;00m\u001b[38;5;21;01mnn\u001b[39;00m \u001b[38;5;28;01mas\u001b[39;00m \u001b[38;5;21;01mnn\u001b[39;00m\n\u001b[1;32m      7\u001b[0m \u001b[38;5;28;01mimport\u001b[39;00m \u001b[38;5;21;01mrandom\u001b[39;00m\n",
      "\u001b[0;31mModuleNotFoundError\u001b[0m: No module named 'torch'"
=======
   "execution_count": 5,
   "metadata": {},
   "outputs": [
    {
     "name": "stdout",
     "output_type": "stream",
     "text": [
      "number of parameters: 1100048384\n"
>>>>>>> 7348b06fb4c521f6b20b737c62b4b714b40561fa
     ]
    }
   ],
   "source": [
<<<<<<< HEAD
    "# Phase 4:\n",
    "# Train a model\n",
    "# model is trained on the generated training pairs\n",
    "\n",
    "import torch\n",
    "import torch.nn as nn\n",
    "import random\n",
    "\n",
    "class Network(nn.Module):\n",
    "    # Linear Transformer\n",
    "    # using Dense and Dropout layers\n",
    "    # softmax at the end\n",
    "\n",
    "    def __init__(self, vocab_size, num_neurons, num_layers, dropout, output_n_tokens):\n",
    "        self.vocab_size = vocab_size\n",
    "        self.context_window = num_neurons\n",
    "        \n",
    "        super(Network, self).__init__()\n",
    "\n",
    "        self.layers = nn.ModuleList()\n",
    "        \n",
    "        #input layer (context window, vocab_size)\n",
    "        self.layers.append(nn.Linear(self.context_window, self.vocab_size))\n",
    "\n",
    "        # hidden layers\n",
    "        for _ in range(num_layers // 2):\n",
    "            self.layers.append(nn.Linear(num_neurons, num_neurons))\n",
    "            self.layers.append(nn.Dropout(dropout))\n",
    "        \n",
    "        self.layers.append(nn.Linear(self.vocab_size, self.vocab_size))\n",
    "\n",
    "        for _ in range(num_layers // 2):\n",
    "            self.layers.append(nn.Linear(num_neurons, num_neurons))\n",
    "            self.layers.append(nn.Dropout(dropout))\n",
    "        \n",
    "        # output layer (vocab_size, output_n_tokens)\n",
    "        self.layers.append(nn.Linear(self.vocab_size, output_n_tokens))\n",
    "        self.layers.append(nn.Softmax(dim=1))\n",
    "\n",
    "\n",
    "\n",
    "    \n",
    "    def forward(self, x):\n",
    "        x_input = torch.zeros((self.context_window, self.vocab_size))\n",
    "        for i, token in enumerate(x):\n",
    "            x_input[i, int(token)] = 1\n",
    "\n",
    "        # rotate 90 degrees\n",
    "        x_input = torch.rot90(x_input, 1, [0, 1])\n",
    "        \n",
    "        \n",
    "        # truncate from the left\n",
    "        if len(x_input) > self.context_window:\n",
    "            x_input = x_input[-self.context_window:]\n",
    "        \n",
    "        \n",
    "        for idx, layer in enumerate(self.layers):\n",
    "            print(x_input.shape)\n",
    "            \n",
    "            # if we are at one of the midle layers with shape (num_neurons, num_neurons)\n",
    "            # idx is in between 1 and len(self.layers) - 2\n",
    "            # not including the 1\n",
    "            if idx > 1 and idx < len(self.layers) - 2:\n",
    "                # squeeze the input to num_neurons, num_neurons\n",
    "                x_input = x_input.squeeze()\n",
    "                \n",
    "\n",
    "            x_input = layer(x_input)\n",
    "        \n",
    "        x_input = x_input.squeeze()\n",
    "        \n",
    "        return torch.argmax(x_input)\n",
    "    \n",
    "    \n",
    "    def generate(self, system_prompt, user_input, max_len):\n",
    "        # generate a response\n",
    "        # system_prompt and user_input are lists of tokens\n",
    "        # max_len is the maximum length of the response\n",
    "\n",
    "        x: list[int] = system_prompt + user_input\n",
    "        for _ in range(max_len):\n",
    "            y = self.forward(x)\n",
    "            x.append(y)\n",
    "        \n",
    "        return x\n",
    "    \n",
    "    def train(self, X_arr, y_arr, train_lr, epochs, batch_size):\n",
    "        # train the model\n",
    "        # X_arr and y_arr are lists of tuples\n",
    "        # each tuple contains a list of tokens and a single token\n",
    "        # X_arr is the input and y_arr is the output\n",
    "\n",
    "        criterion = nn.CrossEntropyLoss()\n",
    "        optimizer = torch.optim.Adam(self.parameters(), lr=train_lr)\n",
    "\n",
    "        for epoch in range(epochs):\n",
    "            epoch_loss = 0.0\n",
    "\n",
    "            combined_data = list(zip(X_arr, y_arr))\n",
    "            random.shuffle(combined_data)\n",
    "            X_arr, y_arr = zip(*combined_data)\n",
    "\n",
    "            # Mini-batch training\n",
    "            for i in range(0, len(X_arr), batch_size):\n",
    "                optimizer.zero_grad()\n",
    "                \n",
    "                X_batch = X_arr[i:i+batch_size]\n",
    "                y_batch = y_arr[i:i+batch_size]\n",
    "\n",
    "\n",
    "                max_len = max([len(x) for x in X_batch])\n",
    "\n",
    "                x_batch_padded = []\n",
    "                for x in X_batch:\n",
    "                    x_batch_padded.append(x + [0] * (max_len - len(x)))\n",
    "\n",
    "                x_tensors = [torch.tensor(x, dtype=torch.float32) for x in x_batch_padded]\n",
    "\n",
    "                inputs = torch.stack(x_tensors)\n",
    "\n",
    "                max_len_y = max([len(y) for y in y_batch])\n",
    "                y_batch_padded = []\n",
    "                for y in y_batch:\n",
    "                    y_batch_padded.append(y + [0] * (max_len_y - len(y)))\n",
    "                \n",
    "                y_tensors = [torch.tensor([y], dtype=torch.long) for y in y_batch_padded]\n",
    "                targets = torch.stack(y_tensors)\n",
    "\n",
    "\n",
    "\n",
    "                outputs = [self.forward(x) for x in inputs]\n",
    "                loss = criterion(outputs, targets)\n",
    "                epoch_loss += loss.item()\n",
    "\n",
    "                loss.backward()\n",
    "                optimizer.step()\n",
    "            \n",
    "            print(f\"Epoch {epoch + 1} loss: {epoch_loss / len(X_arr)}\")"
=======
    "num_params = sum(p.numel() for p in model.parameters())\n",
    "print(f\"number of parameters: {num_params}\")"
>>>>>>> 7348b06fb4c521f6b20b737c62b4b714b40561fa
   ]
  },
  {
   "cell_type": "code",
   "execution_count": 7,
   "metadata": {},
   "outputs": [],
   "source": [
    "# inject BitLinear158 layers\n",
    "inject(model, copy_weights=True, module_class=BitLinear158)\n"
   ]
  },
  {
   "cell_type": "code",
   "execution_count": 7,
   "metadata": {},
   "outputs": [],
   "source": [
    "class PrintFirstLayerGradientsCallback(TrainerCallback):\n",
    "    \"\"\"\n",
    "    A custom callback that prints the gradient of the first layer of the model at each training step.\n",
    "    \"\"\"\n",
    "    def on_step_end(self, args, state, control, **kwargs):\n",
    "        # Assuming 'model' is your model instance and it's a PyTorch model\n",
    "        # You may need to adjust the layer name depending on your model architecture\n",
    "        num_params = 0\n",
    "        print(\"First layer gradients\")\n",
    "        for k, v in model.named_parameters():\n",
    "            if v.grad is not None:\n",
    "                print(k, v.grad)\n",
    "                num_params += v.numel()\n",
    "            else:\n",
    "                print(k, \"None\")\n",
    "        print(\"Number of parameters: \", num_params)"
   ]
  },
  {
   "cell_type": "code",
   "execution_count": 8,
   "metadata": {},
   "outputs": [],
   "source": [
    "def get_training_pairs(x_arr: list, y_arr: list):\n",
    "    x = []\n",
    "    y = []\n",
    "    for i in range(len(y_arr)):\n",
    "        y.append(y_arr[i])\n",
    "        x.append(x_arr + y_arr[:i])\n",
    "    return x, y"
   ]
  },
  {
   "cell_type": "code",
   "execution_count": null,
   "metadata": {},
<<<<<<< HEAD
   "outputs": [],
=======
   "outputs": [
    {
     "name": "stderr",
     "output_type": "stream",
     "text": [
      "97it [00:00, 135.99it/s]\n"
     ]
    },
    {
     "name": "stdout",
     "output_type": "stream",
     "text": [
      "x_lens {512}\n",
      "y_lens {512}\n"
     ]
    }
   ],
>>>>>>> 7348b06fb4c521f6b20b737c62b4b714b40561fa
   "source": [
    "# Start training\n",
    "\n",
    "X = []\n",
    "y = []\n",
    "n_tokens = 0\n",
    "\n",
    "x_lens = set()\n",
    "y_lens = set()\n",
    "\n",
    "with jsonlines.open(\"./data/conversations.jsonl\") as reader:\n",
    "    for obj in tqdm(reader):\n",
    "        json_obj = json.loads(obj)\n",
    "        \n",
    "        sys_prompt = \"\"\n",
    "        x_text = \"\"\n",
    "        y_text = \"\"\n",
    "        for elem in json_obj:\n",
    "            if elem[\"role\"] == \"user\":\n",
    "                x_text = elem[\"content\"]\n",
    "            elif elem[\"role\"] == \"system\":\n",
    "                sys_prompt = elem[\"content\"]\n",
    "            else:\n",
    "                y_text = elem[\"content\"]\n",
    "        \n",
    "        x_text = sys_prompt + \" \" + x_text\n",
    "        \n",
    "        x_tokens = tokenizer(x_text, return_tensors=\"pt\", padding=\"max_length\", max_length=512, truncation=True)\n",
    "        y_tokens = tokenizer(y_text, return_tensors=\"pt\", padding=\"max_length\", max_length=512, truncation=True)\n",
    "\n",
    "\n",
    "        x_lens.add(len(x_tokens[\"input_ids\"][0]))\n",
    "        y_lens.add(len(y_tokens[\"input_ids\"][0]))\n",
    "\n",
    "        \n",
    "\n",
    "        n_tokens += len(x_tokens[\"input_ids\"][0]) + len(y_tokens[\"input_ids\"][0])\n",
    "        if n_tokens > 100_000:\n",
    "            break\n",
    "\n",
    "        x_combinations, y_combinations = get_training_pairs(x_tokens[\"input_ids\"][0].tolist(), y_tokens[\"input_ids\"][0].tolist())\n",
    "        X += x_combinations\n",
    "        y += y_combinations\n",
    "\n",
    "print(\"x_lens\", x_lens)\n",
    "print(\"y_lens\", y_lens)\n",
    "\n",
    "X = [x if len(x) == 512 else x[:512] for x in X]\n",
    "#y = [y if len(y) == 512 else y[:512] for y in y]\n",
    "\n",
    "# convert to tensors\n",
    "x_tensor = torch.tensor(X)\n",
    "y_tensor = torch.tensor(y)"
   ]
  },
  {
   "cell_type": "code",
   "execution_count": 17,
   "metadata": {},
   "outputs": [],
   "source": [
    "#convert to torch.float16\n",
    "x_tensor = x_tensor.to(torch.float16)\n",
    "y_tensor = y_tensor.to(torch.float16)"
   ]
  },
  {
   "cell_type": "code",
   "execution_count": 18,
   "metadata": {},
   "outputs": [],
   "source": [
    "train_dataset = Dataset.from_dict({\"input_ids\": x_tensor, \"labels\": y_tensor})"
   ]
  },
  {
   "cell_type": "code",
   "execution_count": 19,
   "metadata": {},
   "outputs": [
    {
     "name": "stderr",
     "output_type": "stream",
     "text": [
      "  0%|          | 0/6208 [01:33<?, ?it/s]\n",
      "  0%|          | 0/6208 [00:52<?, ?it/s]\n",
      "  0%|          | 0/6208 [00:00<?, ?it/s]"
     ]
    },
    {
     "ename": "ValueError",
     "evalue": "type of 1.0 unknown: <class 'numpy.float16'>. Should be one of a python, numpy, pytorch or tensorflow object.",
     "output_type": "error",
     "traceback": [
      "\u001b[1;31m---------------------------------------------------------------------------\u001b[0m",
      "\u001b[1;31mValueError\u001b[0m                                Traceback (most recent call last)",
      "Cell \u001b[1;32mIn[19], line 20\u001b[0m\n\u001b[0;32m      1\u001b[0m trainer \u001b[38;5;241m=\u001b[39m Trainer(\n\u001b[0;32m      2\u001b[0m     model\u001b[38;5;241m=\u001b[39mmodel,\n\u001b[0;32m      3\u001b[0m     args\u001b[38;5;241m=\u001b[39mTrainingArguments(\n\u001b[1;32m   (...)\u001b[0m\n\u001b[0;32m     18\u001b[0m     callbacks\u001b[38;5;241m=\u001b[39m[PrintFirstLayerGradientsCallback]\n\u001b[0;32m     19\u001b[0m )\n\u001b[1;32m---> 20\u001b[0m \u001b[43mtrainer\u001b[49m\u001b[38;5;241;43m.\u001b[39;49m\u001b[43mtrain\u001b[49m\u001b[43m(\u001b[49m\u001b[43m)\u001b[49m\n",
      "File \u001b[1;32mc:\\Python311\\Lib\\site-packages\\transformers\\trainer.py:1539\u001b[0m, in \u001b[0;36mTrainer.train\u001b[1;34m(self, resume_from_checkpoint, trial, ignore_keys_for_eval, **kwargs)\u001b[0m\n\u001b[0;32m   1537\u001b[0m         hf_hub_utils\u001b[38;5;241m.\u001b[39menable_progress_bars()\n\u001b[0;32m   1538\u001b[0m \u001b[38;5;28;01melse\u001b[39;00m:\n\u001b[1;32m-> 1539\u001b[0m     \u001b[38;5;28;01mreturn\u001b[39;00m \u001b[43minner_training_loop\u001b[49m\u001b[43m(\u001b[49m\n\u001b[0;32m   1540\u001b[0m \u001b[43m        \u001b[49m\u001b[43margs\u001b[49m\u001b[38;5;241;43m=\u001b[39;49m\u001b[43margs\u001b[49m\u001b[43m,\u001b[49m\n\u001b[0;32m   1541\u001b[0m \u001b[43m        \u001b[49m\u001b[43mresume_from_checkpoint\u001b[49m\u001b[38;5;241;43m=\u001b[39;49m\u001b[43mresume_from_checkpoint\u001b[49m\u001b[43m,\u001b[49m\n\u001b[0;32m   1542\u001b[0m \u001b[43m        \u001b[49m\u001b[43mtrial\u001b[49m\u001b[38;5;241;43m=\u001b[39;49m\u001b[43mtrial\u001b[49m\u001b[43m,\u001b[49m\n\u001b[0;32m   1543\u001b[0m \u001b[43m        \u001b[49m\u001b[43mignore_keys_for_eval\u001b[49m\u001b[38;5;241;43m=\u001b[39;49m\u001b[43mignore_keys_for_eval\u001b[49m\u001b[43m,\u001b[49m\n\u001b[0;32m   1544\u001b[0m \u001b[43m    \u001b[49m\u001b[43m)\u001b[49m\n",
      "File \u001b[1;32mc:\\Python311\\Lib\\site-packages\\transformers\\trainer.py:1836\u001b[0m, in \u001b[0;36mTrainer._inner_training_loop\u001b[1;34m(self, batch_size, args, resume_from_checkpoint, trial, ignore_keys_for_eval)\u001b[0m\n\u001b[0;32m   1833\u001b[0m     rng_to_sync \u001b[38;5;241m=\u001b[39m \u001b[38;5;28;01mTrue\u001b[39;00m\n\u001b[0;32m   1835\u001b[0m step \u001b[38;5;241m=\u001b[39m \u001b[38;5;241m-\u001b[39m\u001b[38;5;241m1\u001b[39m\n\u001b[1;32m-> 1836\u001b[0m \u001b[43m\u001b[49m\u001b[38;5;28;43;01mfor\u001b[39;49;00m\u001b[43m \u001b[49m\u001b[43mstep\u001b[49m\u001b[43m,\u001b[49m\u001b[43m \u001b[49m\u001b[43minputs\u001b[49m\u001b[43m \u001b[49m\u001b[38;5;129;43;01min\u001b[39;49;00m\u001b[43m \u001b[49m\u001b[38;5;28;43menumerate\u001b[39;49m\u001b[43m(\u001b[49m\u001b[43mepoch_iterator\u001b[49m\u001b[43m)\u001b[49m\u001b[43m:\u001b[49m\n\u001b[0;32m   1837\u001b[0m \u001b[43m    \u001b[49m\u001b[43mtotal_batched_samples\u001b[49m\u001b[43m \u001b[49m\u001b[38;5;241;43m+\u001b[39;49m\u001b[38;5;241;43m=\u001b[39;49m\u001b[43m \u001b[49m\u001b[38;5;241;43m1\u001b[39;49m\n\u001b[0;32m   1839\u001b[0m \u001b[43m    \u001b[49m\u001b[38;5;28;43;01mif\u001b[39;49;00m\u001b[43m \u001b[49m\u001b[38;5;28;43mself\u001b[39;49m\u001b[38;5;241;43m.\u001b[39;49m\u001b[43margs\u001b[49m\u001b[38;5;241;43m.\u001b[39;49m\u001b[43minclude_num_input_tokens_seen\u001b[49m\u001b[43m:\u001b[49m\n",
      "File \u001b[1;32mc:\\Python311\\Lib\\site-packages\\accelerate\\data_loader.py:452\u001b[0m, in \u001b[0;36mDataLoaderShard.__iter__\u001b[1;34m(self)\u001b[0m\n\u001b[0;32m    450\u001b[0m \u001b[38;5;66;03m# We iterate one batch ahead to check when we are at the end\u001b[39;00m\n\u001b[0;32m    451\u001b[0m \u001b[38;5;28;01mtry\u001b[39;00m:\n\u001b[1;32m--> 452\u001b[0m     current_batch \u001b[38;5;241m=\u001b[39m \u001b[38;5;28;43mnext\u001b[39;49m\u001b[43m(\u001b[49m\u001b[43mdataloader_iter\u001b[49m\u001b[43m)\u001b[49m\n\u001b[0;32m    453\u001b[0m \u001b[38;5;28;01mexcept\u001b[39;00m \u001b[38;5;167;01mStopIteration\u001b[39;00m:\n\u001b[0;32m    454\u001b[0m     \u001b[38;5;28;01myield\u001b[39;00m\n",
      "File \u001b[1;32mc:\\Python311\\Lib\\site-packages\\torch\\utils\\data\\dataloader.py:631\u001b[0m, in \u001b[0;36m_BaseDataLoaderIter.__next__\u001b[1;34m(self)\u001b[0m\n\u001b[0;32m    628\u001b[0m \u001b[38;5;28;01mif\u001b[39;00m \u001b[38;5;28mself\u001b[39m\u001b[38;5;241m.\u001b[39m_sampler_iter \u001b[38;5;129;01mis\u001b[39;00m \u001b[38;5;28;01mNone\u001b[39;00m:\n\u001b[0;32m    629\u001b[0m     \u001b[38;5;66;03m# TODO(https://github.com/pytorch/pytorch/issues/76750)\u001b[39;00m\n\u001b[0;32m    630\u001b[0m     \u001b[38;5;28mself\u001b[39m\u001b[38;5;241m.\u001b[39m_reset()  \u001b[38;5;66;03m# type: ignore[call-arg]\u001b[39;00m\n\u001b[1;32m--> 631\u001b[0m data \u001b[38;5;241m=\u001b[39m \u001b[38;5;28;43mself\u001b[39;49m\u001b[38;5;241;43m.\u001b[39;49m\u001b[43m_next_data\u001b[49m\u001b[43m(\u001b[49m\u001b[43m)\u001b[49m\n\u001b[0;32m    632\u001b[0m \u001b[38;5;28mself\u001b[39m\u001b[38;5;241m.\u001b[39m_num_yielded \u001b[38;5;241m+\u001b[39m\u001b[38;5;241m=\u001b[39m \u001b[38;5;241m1\u001b[39m\n\u001b[0;32m    633\u001b[0m \u001b[38;5;28;01mif\u001b[39;00m \u001b[38;5;28mself\u001b[39m\u001b[38;5;241m.\u001b[39m_dataset_kind \u001b[38;5;241m==\u001b[39m _DatasetKind\u001b[38;5;241m.\u001b[39mIterable \u001b[38;5;129;01mand\u001b[39;00m \\\n\u001b[0;32m    634\u001b[0m         \u001b[38;5;28mself\u001b[39m\u001b[38;5;241m.\u001b[39m_IterableDataset_len_called \u001b[38;5;129;01mis\u001b[39;00m \u001b[38;5;129;01mnot\u001b[39;00m \u001b[38;5;28;01mNone\u001b[39;00m \u001b[38;5;129;01mand\u001b[39;00m \\\n\u001b[0;32m    635\u001b[0m         \u001b[38;5;28mself\u001b[39m\u001b[38;5;241m.\u001b[39m_num_yielded \u001b[38;5;241m>\u001b[39m \u001b[38;5;28mself\u001b[39m\u001b[38;5;241m.\u001b[39m_IterableDataset_len_called:\n",
      "File \u001b[1;32mc:\\Python311\\Lib\\site-packages\\torch\\utils\\data\\dataloader.py:675\u001b[0m, in \u001b[0;36m_SingleProcessDataLoaderIter._next_data\u001b[1;34m(self)\u001b[0m\n\u001b[0;32m    673\u001b[0m \u001b[38;5;28;01mdef\u001b[39;00m \u001b[38;5;21m_next_data\u001b[39m(\u001b[38;5;28mself\u001b[39m):\n\u001b[0;32m    674\u001b[0m     index \u001b[38;5;241m=\u001b[39m \u001b[38;5;28mself\u001b[39m\u001b[38;5;241m.\u001b[39m_next_index()  \u001b[38;5;66;03m# may raise StopIteration\u001b[39;00m\n\u001b[1;32m--> 675\u001b[0m     data \u001b[38;5;241m=\u001b[39m \u001b[38;5;28;43mself\u001b[39;49m\u001b[38;5;241;43m.\u001b[39;49m\u001b[43m_dataset_fetcher\u001b[49m\u001b[38;5;241;43m.\u001b[39;49m\u001b[43mfetch\u001b[49m\u001b[43m(\u001b[49m\u001b[43mindex\u001b[49m\u001b[43m)\u001b[49m  \u001b[38;5;66;03m# may raise StopIteration\u001b[39;00m\n\u001b[0;32m    676\u001b[0m     \u001b[38;5;28;01mif\u001b[39;00m \u001b[38;5;28mself\u001b[39m\u001b[38;5;241m.\u001b[39m_pin_memory:\n\u001b[0;32m    677\u001b[0m         data \u001b[38;5;241m=\u001b[39m _utils\u001b[38;5;241m.\u001b[39mpin_memory\u001b[38;5;241m.\u001b[39mpin_memory(data, \u001b[38;5;28mself\u001b[39m\u001b[38;5;241m.\u001b[39m_pin_memory_device)\n",
      "File \u001b[1;32mc:\\Python311\\Lib\\site-packages\\torch\\utils\\data\\_utils\\fetch.py:54\u001b[0m, in \u001b[0;36m_MapDatasetFetcher.fetch\u001b[1;34m(self, possibly_batched_index)\u001b[0m\n\u001b[0;32m     52\u001b[0m \u001b[38;5;28;01melse\u001b[39;00m:\n\u001b[0;32m     53\u001b[0m     data \u001b[38;5;241m=\u001b[39m \u001b[38;5;28mself\u001b[39m\u001b[38;5;241m.\u001b[39mdataset[possibly_batched_index]\n\u001b[1;32m---> 54\u001b[0m \u001b[38;5;28;01mreturn\u001b[39;00m \u001b[38;5;28;43mself\u001b[39;49m\u001b[38;5;241;43m.\u001b[39;49m\u001b[43mcollate_fn\u001b[49m\u001b[43m(\u001b[49m\u001b[43mdata\u001b[49m\u001b[43m)\u001b[49m\n",
      "File \u001b[1;32mc:\\Python311\\Lib\\site-packages\\transformers\\data\\data_collator.py:45\u001b[0m, in \u001b[0;36mDataCollatorMixin.__call__\u001b[1;34m(self, features, return_tensors)\u001b[0m\n\u001b[0;32m     43\u001b[0m     \u001b[38;5;28;01mreturn\u001b[39;00m \u001b[38;5;28mself\u001b[39m\u001b[38;5;241m.\u001b[39mtf_call(features)\n\u001b[0;32m     44\u001b[0m \u001b[38;5;28;01melif\u001b[39;00m return_tensors \u001b[38;5;241m==\u001b[39m \u001b[38;5;124m\"\u001b[39m\u001b[38;5;124mpt\u001b[39m\u001b[38;5;124m\"\u001b[39m:\n\u001b[1;32m---> 45\u001b[0m     \u001b[38;5;28;01mreturn\u001b[39;00m \u001b[38;5;28;43mself\u001b[39;49m\u001b[38;5;241;43m.\u001b[39;49m\u001b[43mtorch_call\u001b[49m\u001b[43m(\u001b[49m\u001b[43mfeatures\u001b[49m\u001b[43m)\u001b[49m\n\u001b[0;32m     46\u001b[0m \u001b[38;5;28;01melif\u001b[39;00m return_tensors \u001b[38;5;241m==\u001b[39m \u001b[38;5;124m\"\u001b[39m\u001b[38;5;124mnp\u001b[39m\u001b[38;5;124m\"\u001b[39m:\n\u001b[0;32m     47\u001b[0m     \u001b[38;5;28;01mreturn\u001b[39;00m \u001b[38;5;28mself\u001b[39m\u001b[38;5;241m.\u001b[39mnumpy_call(features)\n",
      "File \u001b[1;32mc:\\Python311\\Lib\\site-packages\\transformers\\data\\data_collator.py:761\u001b[0m, in \u001b[0;36mDataCollatorForLanguageModeling.torch_call\u001b[1;34m(self, examples)\u001b[0m\n\u001b[0;32m    758\u001b[0m \u001b[38;5;28;01mdef\u001b[39;00m \u001b[38;5;21mtorch_call\u001b[39m(\u001b[38;5;28mself\u001b[39m, examples: List[Union[List[\u001b[38;5;28mint\u001b[39m], Any, Dict[\u001b[38;5;28mstr\u001b[39m, Any]]]) \u001b[38;5;241m-\u001b[39m\u001b[38;5;241m>\u001b[39m Dict[\u001b[38;5;28mstr\u001b[39m, Any]:\n\u001b[0;32m    759\u001b[0m     \u001b[38;5;66;03m# Handle dict or lists with proper padding and conversion to tensor.\u001b[39;00m\n\u001b[0;32m    760\u001b[0m     \u001b[38;5;28;01mif\u001b[39;00m \u001b[38;5;28misinstance\u001b[39m(examples[\u001b[38;5;241m0\u001b[39m], Mapping):\n\u001b[1;32m--> 761\u001b[0m         batch \u001b[38;5;241m=\u001b[39m \u001b[43mpad_without_fast_tokenizer_warning\u001b[49m\u001b[43m(\u001b[49m\n\u001b[0;32m    762\u001b[0m \u001b[43m            \u001b[49m\u001b[38;5;28;43mself\u001b[39;49m\u001b[38;5;241;43m.\u001b[39;49m\u001b[43mtokenizer\u001b[49m\u001b[43m,\u001b[49m\u001b[43m \u001b[49m\u001b[43mexamples\u001b[49m\u001b[43m,\u001b[49m\u001b[43m \u001b[49m\u001b[43mreturn_tensors\u001b[49m\u001b[38;5;241;43m=\u001b[39;49m\u001b[38;5;124;43m\"\u001b[39;49m\u001b[38;5;124;43mpt\u001b[39;49m\u001b[38;5;124;43m\"\u001b[39;49m\u001b[43m,\u001b[49m\u001b[43m \u001b[49m\u001b[43mpad_to_multiple_of\u001b[49m\u001b[38;5;241;43m=\u001b[39;49m\u001b[38;5;28;43mself\u001b[39;49m\u001b[38;5;241;43m.\u001b[39;49m\u001b[43mpad_to_multiple_of\u001b[49m\n\u001b[0;32m    763\u001b[0m \u001b[43m        \u001b[49m\u001b[43m)\u001b[49m\n\u001b[0;32m    764\u001b[0m     \u001b[38;5;28;01melse\u001b[39;00m:\n\u001b[0;32m    765\u001b[0m         batch \u001b[38;5;241m=\u001b[39m {\n\u001b[0;32m    766\u001b[0m             \u001b[38;5;124m\"\u001b[39m\u001b[38;5;124minput_ids\u001b[39m\u001b[38;5;124m\"\u001b[39m: _torch_collate_batch(examples, \u001b[38;5;28mself\u001b[39m\u001b[38;5;241m.\u001b[39mtokenizer, pad_to_multiple_of\u001b[38;5;241m=\u001b[39m\u001b[38;5;28mself\u001b[39m\u001b[38;5;241m.\u001b[39mpad_to_multiple_of)\n\u001b[0;32m    767\u001b[0m         }\n",
      "File \u001b[1;32mc:\\Python311\\Lib\\site-packages\\transformers\\data\\data_collator.py:66\u001b[0m, in \u001b[0;36mpad_without_fast_tokenizer_warning\u001b[1;34m(tokenizer, *pad_args, **pad_kwargs)\u001b[0m\n\u001b[0;32m     63\u001b[0m tokenizer\u001b[38;5;241m.\u001b[39mdeprecation_warnings[\u001b[38;5;124m\"\u001b[39m\u001b[38;5;124mAsking-to-pad-a-fast-tokenizer\u001b[39m\u001b[38;5;124m\"\u001b[39m] \u001b[38;5;241m=\u001b[39m \u001b[38;5;28;01mTrue\u001b[39;00m\n\u001b[0;32m     65\u001b[0m \u001b[38;5;28;01mtry\u001b[39;00m:\n\u001b[1;32m---> 66\u001b[0m     padded \u001b[38;5;241m=\u001b[39m \u001b[43mtokenizer\u001b[49m\u001b[38;5;241;43m.\u001b[39;49m\u001b[43mpad\u001b[49m\u001b[43m(\u001b[49m\u001b[38;5;241;43m*\u001b[39;49m\u001b[43mpad_args\u001b[49m\u001b[43m,\u001b[49m\u001b[43m \u001b[49m\u001b[38;5;241;43m*\u001b[39;49m\u001b[38;5;241;43m*\u001b[39;49m\u001b[43mpad_kwargs\u001b[49m\u001b[43m)\u001b[49m\n\u001b[0;32m     67\u001b[0m \u001b[38;5;28;01mfinally\u001b[39;00m:\n\u001b[0;32m     68\u001b[0m     \u001b[38;5;66;03m# Restore the state of the warning.\u001b[39;00m\n\u001b[0;32m     69\u001b[0m     tokenizer\u001b[38;5;241m.\u001b[39mdeprecation_warnings[\u001b[38;5;124m\"\u001b[39m\u001b[38;5;124mAsking-to-pad-a-fast-tokenizer\u001b[39m\u001b[38;5;124m\"\u001b[39m] \u001b[38;5;241m=\u001b[39m warning_state\n",
      "File \u001b[1;32mc:\\Python311\\Lib\\site-packages\\transformers\\tokenization_utils_base.py:3251\u001b[0m, in \u001b[0;36mPreTrainedTokenizerBase.pad\u001b[1;34m(self, encoded_inputs, padding, max_length, pad_to_multiple_of, return_attention_mask, return_tensors, verbose)\u001b[0m\n\u001b[0;32m   3249\u001b[0m     return_tensors \u001b[38;5;241m=\u001b[39m \u001b[38;5;124m\"\u001b[39m\u001b[38;5;124mnp\u001b[39m\u001b[38;5;124m\"\u001b[39m \u001b[38;5;28;01mif\u001b[39;00m return_tensors \u001b[38;5;129;01mis\u001b[39;00m \u001b[38;5;28;01mNone\u001b[39;00m \u001b[38;5;28;01melse\u001b[39;00m return_tensors\n\u001b[0;32m   3250\u001b[0m \u001b[38;5;28;01melse\u001b[39;00m:\n\u001b[1;32m-> 3251\u001b[0m     \u001b[38;5;28;01mraise\u001b[39;00m \u001b[38;5;167;01mValueError\u001b[39;00m(\n\u001b[0;32m   3252\u001b[0m         \u001b[38;5;124mf\u001b[39m\u001b[38;5;124m\"\u001b[39m\u001b[38;5;124mtype of \u001b[39m\u001b[38;5;132;01m{\u001b[39;00mfirst_element\u001b[38;5;132;01m}\u001b[39;00m\u001b[38;5;124m unknown: \u001b[39m\u001b[38;5;132;01m{\u001b[39;00m\u001b[38;5;28mtype\u001b[39m(first_element)\u001b[38;5;132;01m}\u001b[39;00m\u001b[38;5;124m. \u001b[39m\u001b[38;5;124m\"\u001b[39m\n\u001b[0;32m   3253\u001b[0m         \u001b[38;5;124m\"\u001b[39m\u001b[38;5;124mShould be one of a python, numpy, pytorch or tensorflow object.\u001b[39m\u001b[38;5;124m\"\u001b[39m\n\u001b[0;32m   3254\u001b[0m     )\n\u001b[0;32m   3256\u001b[0m \u001b[38;5;28;01mfor\u001b[39;00m key, value \u001b[38;5;129;01min\u001b[39;00m encoded_inputs\u001b[38;5;241m.\u001b[39mitems():\n\u001b[0;32m   3257\u001b[0m     encoded_inputs[key] \u001b[38;5;241m=\u001b[39m to_py_obj(value)\n",
      "\u001b[1;31mValueError\u001b[0m: type of 1.0 unknown: <class 'numpy.float16'>. Should be one of a python, numpy, pytorch or tensorflow object."
     ]
    }
   ],
   "source": [
    "trainer = Trainer(\n",
    "    model=model,\n",
    "    args=TrainingArguments(\n",
    "        \"test-clm\",\n",
    "        evaluation_strategy=\"steps\",\n",
    "        learning_rate=2e-5,\n",
    "        per_device_train_batch_size=8,\n",
    "        per_device_eval_batch_size=8,\n",
    "        num_train_epochs=1,\n",
    "        weight_decay=0.01,\n",
    "        logging_dir=\"logs\",\n",
    "        logging_steps=10,\n",
    "        save_steps=10,\n",
    "        save_total_limit=2,\n",
    "    ),\n",
    "    data_collator=DataCollatorForLanguageModeling(tokenizer, mlm=False),\n",
    "    train_dataset=train_dataset,\n",
    "    callbacks=[PrintFirstLayerGradientsCallback]\n",
    ")\n",
    "trainer.train()"
   ]
  },
  {
   "cell_type": "code",
   "execution_count": 76,
   "metadata": {},
<<<<<<< HEAD
   "outputs": [
    {
     "name": "stdout",
     "output_type": "stream",
     "text": [
      "question. an people answer information. like some hypothesis information. think de no and complete first many answer information two give both assistant her "
     ]
    }
   ],
   "source": [
    "n = 50\n",
    "tokens_out = []\n",
    "for _ in range(n):\n",
    "    random_token_id = int(abs(random.gauss(100, 100)))\n",
    "    tokens_out.append(random_token_id)\n",
    "\n",
    "for token in tokens_out:\n",
    "    txt = tokenizer.decode([token])\n",
    "\n",
    "    if len(txt) != 1:\n",
    "        print(txt, end = \" \")"
   ]
  },
  {
   "cell_type": "code",
   "execution_count": 78,
   "metadata": {},
   "outputs": [
    {
     "name": "stdout",
     "output_type": "stream",
     "text": [
      "223 question.\n",
      "---\n",
      "71 an\n",
      "---\n",
      "36 I\n",
      "---\n",
      "10 i\n",
      "---\n",
      "125 people\n",
      "---\n",
      "43 '\n",
      "---\n",
      "51 )\n",
      "---\n",
      "98 answer\n",
      "---\n",
      "229 information.\n",
      "---\n",
      "220 é\n",
      "---\n",
      "131 like\n",
      "---\n",
      "171 some\n",
      "---\n",
      "214 hypothesis\n",
      "---\n",
      "229 information.\n",
      "---\n",
      "133 think\n",
      "---\n",
      "72 =\n",
      "---\n",
      "225 de\n",
      "---\n",
      "232 no\n",
      "---\n",
      "100 6\n",
      "---\n",
      "304 –\n",
      "---\n",
      "9 n\n",
      "---\n",
      "220 é\n",
      "---\n",
      "129 ]\n",
      "---\n",
      "31 and\n",
      "---\n",
      "238 complete\n",
      "---\n",
      "45 1\n",
      "---\n",
      "92 9\n",
      "---\n",
      "166 first\n",
      "---\n",
      "210 many\n",
      "---\n",
      "98 answer\n",
      "---\n",
      "156 information\n",
      "---\n",
      "61 H\n",
      "---\n",
      "157 two\n",
      "---\n",
      "78 F\n",
      "---\n",
      "190 }\n",
      "---\n",
      "134 give\n",
      "---\n",
      "227 both\n",
      "---\n",
      "36 I\n",
      "---\n",
      "164 !\n",
      "---\n",
      "181 assistant\n",
      "---\n",
      "84 5\n",
      "---\n",
      "12 o\n",
      "---\n",
      "84 5\n",
      "---\n",
      "76 3\n",
      "---\n",
      "283 ，\n",
      "---\n",
      "124 her\n",
      "---\n",
      "49 2\n",
      "---\n",
      "46 C\n",
      "---\n",
      "9 n\n",
      "---\n",
      "76 3\n",
      "---\n"
     ]
    }
   ],
   "source": [
    "for token in tokens_out:\n",
    "    print(token, tokenizer.decode([token]))\n",
    "    print(\"---\")"
=======
   "outputs": [],
   "source": [
    "def inference(\n",
    "        model,\n",
    "        tokenizer,\n",
    "        sys_prompt: str,\n",
    "        user_input: str,\n",
    "        max_new_tokens: int = 100\n",
    "):\n",
    "\n",
    "    x_tokens = tokenizer(sys_prompt + \" \" + user_input, return_tensors=\"pt\", padding=\"max_length\", max_length=512, truncation=True)\n",
    "\n",
    "    # generate\n",
    "    output = model.generate(\n",
    "        x_tokens[\"input_ids\"],\n",
    "        do_sample=True,\n",
    "        max_length=x_tokens[\"input_ids\"].shape[1] + max_new_tokens,\n",
    "        pad_token_id=tokenizer.eos_token_id\n",
    "    )\n",
    "\n",
    "    return tokenizer.decode(output[0], skip_special_tokens=True)"
>>>>>>> 7348b06fb4c521f6b20b737c62b4b714b40561fa
   ]
  }
 ],
 "metadata": {
  "kernelspec": {
   "display_name": "Python 3",
   "language": "python",
   "name": "python3"
  },
  "language_info": {
   "codemirror_mode": {
    "name": "ipython",
    "version": 3
   },
   "file_extension": ".py",
   "mimetype": "text/x-python",
   "name": "python",
   "nbconvert_exporter": "python",
   "pygments_lexer": "ipython3",
   "version": "3.11.7"
  }
 },
 "nbformat": 4,
 "nbformat_minor": 2
}
