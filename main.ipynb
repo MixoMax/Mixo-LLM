{
 "cells": [
  {
   "cell_type": "markdown",
   "metadata": {},
   "source": [
    "# Mixo-LLM\n",
    "\n",
    "My own LLM (Large Language Model), trained entirely from scratch. I also built the Tokenizer from Scratch"
   ]
  },
  {
   "cell_type": "code",
   "execution_count": 1,
   "metadata": {},
   "outputs": [],
   "source": [
    "import requests\n",
    "import os\n",
    "import json\n",
    "import jsonlines\n",
    "from tqdm import tqdm\n",
    "import sys\n",
    "import random\n",
    "import fileinput"
   ]
  },
  {
   "cell_type": "code",
   "execution_count": null,
   "metadata": {},
   "outputs": [],
   "source": [
    "dataset_urls = [ #(url, filename)\n",
    "    (\"https://huggingface.co/datasets/nvidia/OpenMathInstruct-1/resolve/main/correct_solutions/train.jsonl?download=true\", \"Nvidia_OpenMathInstruct-1_train.jsonl\"),\n",
    "    (\"https://huggingface.co/datasets/OpenAssistant/oasst1/resolve/main/2023-04-12_oasst_all.messages.jsonl.gz?download=true\", \"OpenAssistant_oasst1_2023-04-12_oasst_all.messages.jsonl.gz\"),\n",
    "    (\"https://huggingface.co/datasets/liuhaotian/LLaVA-Instruct-150K/resolve/main/llava_instruct_150k.json?download=true\", \"LLaVA-Instruct-150K_llava_instruct_150k.json\"),\n",
    "    (\"https://huggingface.co/datasets/liuhaotian/LLaVA-Instruct-150K/resolve/main/llava_v1_5_mix665k.json?download=true\", \"LLaVA-Instruct-150K_llava_v1_5_mix665k.json\"),\n",
    "    (\"https://huggingface.co/datasets/nomic-ai/gpt4all-j-prompt-generations/resolve/main/data/train-00000-of-00004-49a07627b3b5bdbe.parquet?download=true\", \"NomicAI_gpt4all-j-prompt-generations_train-0-of-4.parquet\"),\n",
    "    (\"https://huggingface.co/datasets/nomic-ai/gpt4all-j-prompt-generations/resolve/main/data/train-00001-of-00004-62d2ea1ccbf3c546.parquet?download=true\", \"NomicAI_gpt4all-j-prompt-generations_train-1-of-4.parquet\"),\n",
    "    (\"https://huggingface.co/datasets/nomic-ai/gpt4all-j-prompt-generations/resolve/main/data/train-00002-of-00004-5d4368eca33ee435.parquet?download=true\", \"NomicAI_gpt4all-j-prompt-generations_train-2-of-4.parquet\"),\n",
    "    (\"https://huggingface.co/datasets/nomic-ai/gpt4all-j-prompt-generations/resolve/main/data/train-00003-of-00004-ef0356d35c1172f0.parquet?download=true\", \"NomicAI_gpt4all-j-prompt-generations_train-3-of-4.parquet\"),\n",
    "    (\"https://huggingface.co/datasets/Open-Orca/SlimOrca/resolve/main/oo-labeled_correct.gpt4.sharegpt.jsonl?download=true\", \"Open-Orca_SlimOrca_oo-labeled_correct.gpt4.sharegpt.jsonl\"),\n",
    "    (\"https://huggingface.co/datasets/openbmb/UltraFeedback/resolve/main/ultrachat.jsonl?download=true\", \"OpenBMB_UltraFeedback_ultrachat.jsonl\"),\n",
    "    (\"https://huggingface.co/datasets/openbmb/UltraFeedback/resolve/main/sharegpt.jsonl?download=true\", \"OpenBMB_UltraFeedback_sharegpt.jsonl\")\n",
    "]\n",
    "\n",
    "for url, filename in dataset_urls:\n",
    "    filename = \"./data/\" + filename\n",
    "    if not os.path.exists(filename):\n",
    "        print(f\"Downloading {filename}\")\n",
    "        r = requests.get(url, allow_redirects=True)\n",
    "        open(filename, \"wb\").write(r.content)\n",
    "    else:\n",
    "        print(f\"{filename} already exists\")"
   ]
  },
  {
   "cell_type": "code",
   "execution_count": 2,
   "metadata": {},
   "outputs": [],
   "source": [
    "class Message:\n",
    "    author: str # either \"user\" or \"assistant\"\n",
    "    text: str\n",
    "    def __init__(self, author, text):\n",
    "        self.author = author\n",
    "        self.text = text\n",
    "    \n",
    "    def __str__(self):\n",
    "        return f\"{self.author}: {self.text}\"\n",
    "    \n",
    "    def __hash__(self) -> int:\n",
    "        return hash((self.author, self.text))\n",
    "\n",
    "class Conversation:\n",
    "    messages: list[Message]\n",
    "    system_prompt: str\n",
    "    \n",
    "    def __init__(self, messages, system_prompt=\"\"):\n",
    "        self.messages = messages\n",
    "        self.system_prompt = system_prompt\n",
    "    \n",
    "    def __str__(self):\n",
    "        return self.system_prompt + str(len(self.messages)) + \" messages:\\n\" + \"\\n\".join([str(m) for m in self.messages[:10]]) + \"...\"\n",
    "    \n",
    "    def __hash__(self) -> int:\n",
    "        return hash(tuple(self.messages))\n",
    "    \n",
    "def from_LLava_json(filepath) -> list[Conversation]:\n",
    "    print(f\"Loading {filepath}\")\n",
    "    # [x] working\n",
    "    # LLava json is in this format:\n",
    "    \"\"\"\n",
    "    [\n",
    "        {\n",
    "            \"id\": 0,\n",
    "            \"conversations\": [\n",
    "                {\n",
    "                    \"from\": \"human\",\n",
    "                    \"value\": TEXT\n",
    "                },\n",
    "                {\n",
    "                    \"from\": \"gpt\",\n",
    "                    \"value\": TEXT\n",
    "                }\n",
    "                ...\n",
    "            ]\n",
    "        },\n",
    "        ...\n",
    "    ]\n",
    "    \"\"\"\n",
    "    with open(filepath, \"r\") as f:\n",
    "        data = json.load(f)\n",
    "        conversations = []\n",
    "        for conversation in tqdm(data):\n",
    "            messages = []\n",
    "            for message in conversation[\"conversations\"]:\n",
    "                if message[\"from\"] == \"human\":\n",
    "                    author = \"user\"\n",
    "                else:\n",
    "                    author = \"assistant\"\n",
    "                messages.append(Message(author, message[\"value\"]))\n",
    "            conversations.append(Conversation(messages))\n",
    "    \n",
    "    return conversations\n",
    "\n",
    "def from_Nvidia_OMI_jsonl(filepath) -> list[Conversation]:\n",
    "    print(f\"Loading {filepath}\")\n",
    "    # [x] working\n",
    "    # Nvidia OMI jsonl is in this format:\n",
    "    \"\"\"\n",
    "    {\"question\": TEXT, \"expected_answer\": TEXT}\n",
    "    ...\n",
    "    \"\"\"\n",
    "    with jsonlines.open(filepath) as reader:\n",
    "        conversations = []\n",
    "        for obj in tqdm(reader):\n",
    "            messages = [Message(\"user\", obj[\"question\"]), Message(\"assistant\", obj[\"expected_answer\"])]\n",
    "            conversations.append(Conversation(messages))\n",
    "    return conversations\n",
    "\n",
    "def from_OpenBMB_UltraFeedback_jsonl(filepath) -> list[Conversation]:\n",
    "    print(f\"Loading {filepath}\")\n",
    "    # [x] working\n",
    "    # OpenBMB jsonl is in this format:\n",
    "    \"\"\"\n",
    "    {\"source\": \"sharegpt\", \"instruction\": USER_INPUT, \"completions\": [ {\"response\": ASSISTANT_OUTPUT, \"custom_system_prompt\": SYSTEM_PROMPT}, ... ]}\n",
    "    \"\"\"\n",
    "\n",
    "    with jsonlines.open(filepath) as reader:\n",
    "        conversations = []\n",
    "        for obj in tqdm(reader):\n",
    "            user_message = Message(\"user\", obj[\"instruction\"])\n",
    "            \n",
    "            for completion in obj[\"completions\"]:\n",
    "                assistant_message = Message(\"assistant\", completion[\"response\"])\n",
    "                system_prompt = completion[\"custom_system_prompt\"]\n",
    "                conversations.append(Conversation([user_message, assistant_message], system_prompt))\n",
    "    return conversations\n",
    "\n",
    "def from_OpenOrca_jsonl(filepath) -> list[Conversation]:\n",
    "    print(f\"Loading {filepath}\")\n",
    "    # [ ] working\n",
    "    # OpenOrca jsonl is in this format:\n",
    "    \"\"\"\n",
    "    {\"conversations\": [{\"from\": \"system\", \"value\": SYSTEM_PROMPT}, {\"from\": \"human\", \"value\": USER_INPUT}, {\"from\": \"gpt\", \"value\": ASSISTANT_OUTPUT}]}\n",
    "    \"\"\"\n",
    "    \n",
    "    with jsonlines.open(filepath) as reader:\n",
    "        conversations = []\n",
    "        for obj in tqdm(reader):\n",
    "            messages = []\n",
    "            system_prompt = \"\"\n",
    "            for json_obj in obj[\"conversations\"]:\n",
    "\n",
    "                if json_obj[\"from\"] == \"system\":\n",
    "                    system_prompt = json_obj[\"value\"]\n",
    "                else:\n",
    "                    if json_obj[\"from\"] == \"human\":\n",
    "                        author = \"user\"\n",
    "                    else:\n",
    "                        author = \"assistant\"\n",
    "                    messages.append(Message(author, json_obj[\"value\"]))\n",
    "\n",
    "            conversations.append(Conversation(messages, system_prompt))\n",
    "    return conversations\n",
    "\n",
    "def from_OASST_jsonl(filepath) -> list[Conversation]:\n",
    "    # [ ] working\n",
    "    # OASST jsonl is in this format:\n",
    "    pass\n",
    "\n",
    "def from_own_format(filepath) -> list[Conversation]:\n",
    "    # [ ] working\n",
    "    # own format is in this format:\n",
    "    # {\"system_prompt\": SYSTEM_PROMPT, \"messages\": [{\"author\": \"user\", \"text\": USER_INPUT}, {\"author\": \"assistant\", \"text\": ASSISTANT_OUTPUT}]}\n",
    "\n",
    "    with jsonlines.open(filepath) as reader:\n",
    "        conversations = []\n",
    "        for obj in tqdm(reader):\n",
    "            messages = [Message(m[\"author\"], m[\"text\"]) for m in obj[\"messages\"]]\n",
    "            conversations.append(Conversation(messages, obj[\"system_prompt\"]))\n",
    "    return conversations"
   ]
  },
  {
   "cell_type": "code",
   "execution_count": null,
   "metadata": {},
   "outputs": [],
   "source": [
    "# write all conversations to a single jsonl file\n",
    "conversations = []\n",
    "conversations.extend(from_LLava_json(\"./data/LLaVA-Instruct-150K_llava_instruct_150k.json\"))\n",
    "conversations.extend(from_LLava_json(\"./data/LLaVA-Instruct-150K_llava_v1_5_mix665k.json\"))\n",
    "conversations.extend(from_Nvidia_OMI_jsonl(\"./data/Nvidia_OpenMathInstruct-1_train.jsonl\"))\n",
    "conversations.extend(from_OpenBMB_UltraFeedback_jsonl(\"./data/OpenBMB_UltraFeedback_sharegpt.jsonl\"))\n",
    "conversations.extend(from_OpenBMB_UltraFeedback_jsonl(\"./data/OpenBMB_UltraFeedback_ultrachat.jsonl\"))\n",
    "conversations.extend(from_OpenOrca_jsonl(\"./data/Open-Orca_SlimOrca_oo-labeled_correct.gpt4.sharegpt.jsonl\"))\n",
    "\n",
    "with jsonlines.open(\"./data/conversations.jsonl\", \"w\") as writer:\n",
    "    for conversation in tqdm(conversations):\n",
    "        json_obj = {\"system_prompt\": conversation.system_prompt, \"messages\": [{\"author\": m.author, \"text\": m.text} for m in conversation.messages]}\n",
    "        writer.write(json_obj)\n",
    "\n",
    "print(\"Done!\")"
   ]
  },
  {
   "cell_type": "code",
   "execution_count": 3,
   "metadata": {},
   "outputs": [
    {
     "name": "stderr",
     "output_type": "stream",
     "text": [
      "3040280it [01:02, 48697.61it/s] \n"
     ]
    }
   ],
   "source": [
    "conversations = from_own_format(\"./data/conversations.jsonl\")"
   ]
  },
  {
   "cell_type": "code",
   "execution_count": 4,
   "metadata": {},
   "outputs": [
    {
     "name": "stdout",
     "output_type": "stream",
     "text": [
      "3040280\n"
     ]
    }
   ],
   "source": [
    "print(len(conversations))"
   ]
  },
  {
   "cell_type": "code",
   "execution_count": 5,
   "metadata": {},
   "outputs": [
    {
     "name": "stderr",
     "output_type": "stream",
     "text": [
      "100%|██████████| 3040280/3040280 [00:46<00:00, 65298.58it/s] "
     ]
    },
    {
     "name": "stdout",
     "output_type": "stream",
     "text": [
      "2257941\n"
     ]
    },
    {
     "name": "stderr",
     "output_type": "stream",
     "text": [
      "\n"
     ]
    }
   ],
   "source": [
    "# filter out everything that contains \"<image>\" or \"<url>\" and remove duplicates\n",
    "conversations_filtered = set()\n",
    "for conversation in tqdm(conversations):\n",
    "    if \"<image>\" in str(conversation) or \"<url>\" in str(conversation):\n",
    "        continue\n",
    "    conversations_filtered.add(conversation)\n",
    "\n",
    "print(len(conversations_filtered))\n"
   ]
  },
  {
   "cell_type": "code",
   "execution_count": 6,
   "metadata": {},
   "outputs": [
    {
     "name": "stderr",
     "output_type": "stream",
     "text": [
      "100%|██████████| 2257941/2257941 [00:12<00:00, 185043.88it/s]\n",
      "100%|██████████| 690670/690670 [00:06<00:00, 102608.25it/s]\n"
     ]
    }
   ],
   "source": [
    "all_text_arr = set()\n",
    "for conversation in tqdm(conversations_filtered):\n",
    "    convo_arr = []\n",
    "    for message in conversation.messages:\n",
    "        convo_arr.append(\"<|\" + message.author + \"|> \" + message.text.replace(\"\\n\", \"<|br|>\")  + \"<|end|>\")\n",
    "    \n",
    "    convo_str = \"<|system|> \" + conversation.system_prompt.replace(\"\\n\", \"<|br|>\") + \"<|end|>\" + \"\".join(convo_arr)\n",
    "    all_text_arr.add(convo_str)\n",
    "\n",
    "\n",
    "\n",
    "with open(\"./data/all_text.txt\", \"w\", encoding=\"utf-8\") as f:\n",
    "    for line in tqdm(all_text_arr):\n",
    "        f.write(line + \"\\n\")"
   ]
  },
  {
   "cell_type": "code",
   "execution_count": 25,
   "metadata": {},
   "outputs": [
    {
     "name": "stderr",
     "output_type": "stream",
     "text": [
      "100%|██████████| 690670/690670 [07:35<00:00, 1514.82it/s]\n"
     ]
    }
   ],
   "source": [
    "# build a custom tokenizer\n",
    "# generate a vocab list\n",
    "# find the most common words, char combinations and chars\n",
    "\n",
    "vocab = {}\n",
    "for line in tqdm(all_text_arr):\n",
    "    for word in line.split():\n",
    "        vocab[word] = vocab.get(word, 0) + 1\n",
    "    \n",
    "    for char in line:\n",
    "        vocab[char] = vocab.get(char, 0) + 1\n",
    "\n",
    "# sort the vocab by frequency\n",
    "vocab = dict(sorted(vocab.items(), key=lambda item: item[1], reverse=True))"
   ]
  },
  {
   "cell_type": "code",
   "execution_count": 29,
   "metadata": {},
   "outputs": [],
   "source": [
    "vocab_final = {\n",
    "    \"<|system|>\": 0,\n",
    "    \"<|user|>\": 1,\n",
    "    \"<|assistant|>\": 2,\n",
    "    \"<|end|>\": 3,\n",
    "    \"<|br|>\": 4\n",
    "}\n",
    "    \n",
    "max_vocab_size = 32_000\n",
    "\n",
    "for i, (word, freq) in enumerate(vocab.items()):\n",
    "    if i >= max_vocab_size:\n",
    "        break\n",
    "    vocab_final[word] = len(vocab_final)\n",
    "\n",
    "# sort by length\n",
    "vocab_final = dict(sorted(vocab_final.items(), key=lambda item: len(item[0]), reverse=True))\n",
    "\n",
    "with open(\"./data/vocab.json\", \"w\", encoding=\"utf-8\") as f:\n",
    "    json.dump(vocab_final, f, ensure_ascii=False, indent=4)"
   ]
  },
  {
   "cell_type": "code",
   "execution_count": 30,
   "metadata": {},
   "outputs": [],
   "source": [
    "# for loading\n",
    "vocab_final = json.load(open(\"./data/vocab_final.json\", \"r\", encoding=\"utf-8\"))"
   ]
  },
  {
   "cell_type": "code",
   "execution_count": 31,
   "metadata": {},
   "outputs": [],
   "source": [
    "class Tokenizer:\n",
    "    __vocab: dict[str, int]\n",
    "    __vocab_reversed: dict[int, str]\n",
    "    __vocab_size: int\n",
    "    max_token_len: int\n",
    "\n",
    "    def __init__(self, vocab: dict[str, int]):\n",
    "        self.__vocab = vocab\n",
    "        self.__vocab_reversed = {v: k for k, v in vocab.items()}\n",
    "        self.__vocab_size = len(vocab)\n",
    "\n",
    "        self.max_token_len = max([len(token) for token in vocab.keys()])\n",
    "    \n",
    "    def encode(self, text: str) -> list[int]:\n",
    "        out_tokens = []\n",
    "        \n",
    "        sub_str = text[:self.max_token_len]\n",
    "        while len(sub_str) > 0:\n",
    "            if sub_str in self.__vocab:\n",
    "                out_tokens.append(self.__vocab[sub_str])\n",
    "                text = text[len(sub_str):]\n",
    "                sub_str = text[:self.max_token_len]\n",
    "            else:\n",
    "                sub_str = sub_str[:-1]\n",
    "        \n",
    "        return out_tokens\n",
    "    \n",
    "    def decode(self, tokens: list[int]) -> str:\n",
    "        return \"\".join([self.__vocab_reversed[t] for t in tokens])\n",
    "    \n",
    "    def vocab_size(self) -> int:\n",
    "        return self.__vocab_size"
   ]
  },
  {
   "cell_type": "code",
   "execution_count": 34,
   "metadata": {},
   "outputs": [
    {
     "name": "stderr",
     "output_type": "stream",
     "text": [
      "0it [00:00, ?it/s]"
     ]
    },
    {
     "name": "stderr",
     "output_type": "stream",
     "text": [
      "697261it [53:14, 218.26it/s]\n",
      "100%|██████████| 697261/697261 [00:35<00:00, 19631.32it/s]"
     ]
    },
    {
     "name": "stdout",
     "output_type": "stream",
     "text": [
      "447527360\n"
     ]
    },
    {
     "name": "stderr",
     "output_type": "stream",
     "text": [
      "\n"
     ]
    }
   ],
   "source": [
    "# Phase 3:\n",
    "# Tokenize the text\n",
    "# generate training pairs\n",
    "\n",
    "tokenizer = Tokenizer(vocab_final)\n",
    "\n",
    "data_pairs = []\n",
    "n_tokens = 0\n",
    "\n",
    "with fileinput.input(files=(\"./data/all_text.txt\"), encoding=\"utf-8\") as f:\n",
    "    for line in tqdm(f):\n",
    "        tokens = tokenizer.encode(line)\n",
    "\n",
    "        n_tokens += len(tokens)\n",
    "\n",
    "        # find system token\n",
    "        if 0 not in tokens:\n",
    "            system_prompt = []\n",
    "            system_token_idx = 0\n",
    "        else:\n",
    "            system_token_idx = tokens.index(0)\n",
    "            system_prompt = tokens[:system_token_idx]\n",
    "        \n",
    "        # find user token\n",
    "        if 1 not in tokens:\n",
    "            user_token_idx = system_token_idx\n",
    "            user_message = []\n",
    "        else:\n",
    "            user_token_idx = tokens.index(1)\n",
    "            user_message = tokens[system_token_idx:user_token_idx]\n",
    "        \n",
    "        # find assistant token\n",
    "        if 2 not in tokens:\n",
    "            assistant_token_idx = user_token_idx\n",
    "            assistant_message = []\n",
    "        else:\n",
    "            assistant_token_idx = tokens.index(2)\n",
    "            assistant_message = tokens[user_token_idx:assistant_token_idx]\n",
    "        \n",
    "        data_pairs.append((system_prompt, user_message, assistant_message))\n",
    "\n",
    "# save to jsonl\n",
    "with jsonlines.open(\"./data/data_pairs.jsonl\", \"w\") as writer:\n",
    "    for pair in tqdm(data_pairs):\n",
    "        writer.write({\"system_prompt\": pair[0], \"user_message\": pair[1], \"assistant_message\": pair[2]})\n"
   ]
  },
  {
   "cell_type": "code",
   "execution_count": 35,
   "metadata": {},
   "outputs": [
    {
     "name": "stdout",
     "output_type": "stream",
     "text": [
      "447527360\n",
      "447_527_360\n"
     ]
    }
   ],
   "source": [
    "print(n_tokens)\n",
    "\n",
    "print(f\"{n_tokens:_}\")"
   ]
  },
  {
   "cell_type": "code",
   "execution_count": 36,
   "metadata": {},
   "outputs": [],
   "source": [
    "def generate_training_pairs(system_prompt_tokens, user_input_tokens, assistant_output_tokens):\n",
    "    # generate all substrings of the assistant output from 1 to len\n",
    "\n",
    "    training_pairs = []\n",
    "    for i in range(1, len(assistant_output_tokens)):\n",
    "        X = system_prompt_tokens + user_input_tokens + assistant_output_tokens[:i]\n",
    "        y = assistant_output_tokens[i]\n",
    "        training_pairs.append((X, y))\n",
    "    \n",
    "    return training_pairs"
   ]
  },
  {
   "cell_type": "code",
   "execution_count": 75,
   "metadata": {},
   "outputs": [],
   "source": [
    "# Phase 4:\n",
    "# Train a model\n",
    "# model is trained on the generated training pairs\n",
    "\n",
    "import torch\n",
    "import random\n",
    "\n",
    "def get_model(\n",
    "        vocab_size: int,\n",
    "        context_window_size: int,\n",
    "        n_total_neurons: int,\n",
    "        output_size: int\n",
    "        ):\n",
    "    \n",
    "    layers = [\n",
    "        \"input\",\n",
    "        torch.nn.Linear(vocab_size, context_window_size),\n",
    "        torch.nn.ReLU(),\n",
    "        \"hidden\",\n",
    "        \"output\",\n",
    "        torch.nn.Linear(output_size, vocab_size),\n",
    "        #torch.nn.Linear(vocab_size, output_size)\n",
    "    ]\n",
    "\n",
    "    # dynamically create the model\n",
    "    n_neurons = (vocab_size * context_window_size) + (context_window_size * output_size)\n",
    "\n",
    "    layers_out = []\n",
    "    for layer in layers:\n",
    "        if isinstance(layer, str):\n",
    "            if layer == \"hidden\":\n",
    "                # dynamically create hidden layers such that the total number of neurons is approx n_total_neurons\n",
    "                n_hidden_layers = (abs(n_total_neurons - n_neurons) ** (1/3)) // 2\n",
    "                neurons_per_layer = int(n_neurons // n_hidden_layers)\n",
    "                shape = (int(neurons_per_layer ** 0.5), int(neurons_per_layer ** 0.5))\n",
    "\n",
    "                layers_out.append(torch.nn.Linear(context_window_size, shape[0]))\n",
    "\n",
    "                for i in range(int(n_hidden_layers)):\n",
    "                    layers_out.append(torch.nn.Linear(shape[0], shape[1]))\n",
    "                    layers_out.append(torch.nn.ReLU())\n",
    "                \n",
    "                layers_out.append(torch.nn.Linear(shape[1], output_size))\n",
    "        else:\n",
    "            layers_out.append(layer)\n",
    "    \n",
    "    return torch.nn.Sequential(*layers_out)\n",
    "\n",
    "def train_model(\n",
    "        model: torch.nn.Module,\n",
    "        vocab_size: int,\n",
    "        X_ARRAY: list[list[int]],\n",
    "        y_ARRAY: list[int],\n",
    "        epochs: int,\n",
    "        learning_rate: float\n",
    "        ):\n",
    "    \n",
    "    X_tensors = []\n",
    "    for x in X_ARRAY:\n",
    "        x_tensor = []\n",
    "        for i in x:\n",
    "            x_tensor.append([0] * vocab_size)\n",
    "            x_tensor[-1][i] = 1\n",
    "        X_tensors.append(torch.tensor(x_tensor, dtype=torch.float32))\n",
    "    \n",
    "    y_tensors = []\n",
    "    for y in y_ARRAY:\n",
    "        y_tensor = [0] * vocab_size\n",
    "        y_tensor[y] = 1\n",
    "        y_tensors.append(torch.tensor(y_tensor, dtype=torch.float32))\n",
    "    \n",
    "    criterion = torch.nn.CrossEntropyLoss()\n",
    "    optimizer = torch.optim.Adam(model.parameters(), lr=learning_rate)\n",
    "\n",
    "    for epoch in range(epochs):\n",
    "        for i in range(len(X_tensors)):\n",
    "            X = X_tensors[i]\n",
    "            y = y_tensors[i]\n",
    "\n",
    "            optimizer.zero_grad()\n",
    "            y_pred = model(X)\n",
    "            # shape (15, vocab_size)\n",
    "            y_pred = y_pred[-1]\n",
    "\n",
    "            loss = criterion(y_pred, y)\n",
    "            loss.backward()\n",
    "            optimizer.step()\n",
    "        \n",
    "        print(f\"Epoch {epoch + 1}/{epochs}, Loss: {loss.item()}\")\n",
    "\n",
    "def generate(\n",
    "    model: torch.nn.Module,\n",
    "    tokenizer: Tokenizer,\n",
    "    system_prompt: str,\n",
    "    user_input: str,\n",
    "    max_tokens: int\n",
    "    ) -> str:\n",
    "\n",
    "    system_prompt_tokens = tokenizer.encode(system_prompt)\n",
    "    user_input_tokens = tokenizer.encode(user_input)\n",
    "\n",
    "    X = system_prompt_tokens + user_input_tokens\n",
    "    \n",
    "    for i in range(max_tokens):\n",
    "        x_tensor = []\n",
    "        for i in X:\n",
    "            x_tensor.append([0] * tokenizer.vocab_size())\n",
    "            x_tensor[-1][i] = 1\n",
    "        x_tensor = torch.tensor(x_tensor, dtype=torch.float32)\n",
    "\n",
    "        y_pred = model(x_tensor)\n",
    "        y_pred = y_pred[-1]\n",
    "\n",
    "        y_pred = torch.argmax(y_pred).item()\n",
    "        X.append(y_pred)\n",
    "\n",
    "        if tokenizer.decode([y_pred]) == \"<|end|>\":\n",
    "            break\n",
    "    \n",
    "    return tokenizer.decode(X)"
   ]
  },
  {
   "cell_type": "code",
   "execution_count": 38,
   "metadata": {},
   "outputs": [],
   "source": [
    "tokenizer = Tokenizer(vocab_final)"
   ]
  },
  {
   "cell_type": "code",
   "execution_count": 77,
   "metadata": {},
   "outputs": [
    {
     "name": "stdout",
     "output_type": "stream",
     "text": [
      "Model initialized\n",
      "<|system|>You are a helpful assistant.<|end|><|user|>What is the capital of France?<|end|>SouthamptonSouthamptonSouthamptonSouthamptonSouthamptonSouthamptonSouthamptonSouthamptonSouthamptonSouthamptonSouthamptonSouthamptonSouthamptonSouthamptonSouthamptonSouthamptonSouthamptonSouthamptonSouthamptonSouthamptonSouthamptonSouthamptonSouthamptonSouthamptonSouthamptonSouthamptonSouthamptonSouthamptonSouthamptonSouthamptonSouthamptonSouthamptonSouthamptonSouthamptonSouthamptonSouthamptonSouthamptonSouthamptonSouthamptonSouthamptonSouthamptonSouthamptonSouthamptonSouthamptonSouthamptonSouthamptonSouthamptonSouthamptonSouthamptonSouthamptonSouthamptonSouthamptonSouthamptonSouthamptonSouthamptonSouthamptonSouthamptonSouthamptonSouthamptonSouthamptonSouthamptonSouthamptonSouthamptonSouthamptonSouthamptonSouthamptonSouthamptonSouthamptonSouthamptonSouthamptonSouthamptonSouthamptonSouthamptonSouthamptonSouthamptonSouthamptonSouthamptonSouthamptonSouthamptonSouthamptonSouthamptonSouthamptonSouthamptonSouthamptonSouthamptonSouthamptonSouthamptonSouthamptonSouthamptonSouthamptonSouthamptonSouthamptonSouthamptonSouthamptonSouthamptonSouthamptonSouthamptonSouthamptonSouthamptonSouthampton\n"
     ]
    },
    {
     "name": "stderr",
     "output_type": "stream",
     "text": [
      "0it [00:00, ?it/s]"
     ]
    },
    {
     "name": "stdout",
     "output_type": "stream",
     "text": [
      "Epoch 1/10, Loss: 10.50253963470459\n",
      "Epoch 2/10, Loss: 10.759696006774902\n",
      "Epoch 3/10, Loss: 11.913043022155762\n",
      "Epoch 4/10, Loss: 9.906529426574707\n",
      "Epoch 5/10, Loss: 8.837465286254883\n",
      "Epoch 6/10, Loss: 8.118941307067871\n",
      "Epoch 7/10, Loss: 7.557490825653076\n",
      "Epoch 8/10, Loss: 7.092545509338379\n",
      "Epoch 9/10, Loss: 6.6931562423706055\n",
      "Epoch 10/10, Loss: 6.344078540802002\n"
     ]
    },
    {
     "name": "stderr",
     "output_type": "stream",
     "text": [
      "1it [02:26, 146.44s/it]"
     ]
    },
    {
     "name": "stdout",
     "output_type": "stream",
     "text": [
      "<|system|>You are a helpful assistant.<|end|><|user|>What is the capital of France?<|end|>                                                                                                    \n",
      "Epoch 1/10, Loss: 6.901194095611572\n",
      "Epoch 2/10, Loss: 5.75759220123291\n",
      "Epoch 3/10, Loss: 5.363442897796631\n",
      "Epoch 4/10, Loss: 5.3113017082214355\n",
      "Epoch 5/10, Loss: 5.3710103034973145\n",
      "Epoch 6/10, Loss: 5.456414222717285\n",
      "Epoch 7/10, Loss: 5.541018962860107\n",
      "Epoch 8/10, Loss: 5.6177897453308105\n",
      "Epoch 9/10, Loss: 5.685538291931152\n",
      "Epoch 10/10, Loss: 5.745357036590576\n"
     ]
    },
    {
     "name": "stderr",
     "output_type": "stream",
     "text": [
      "2it [34:06, 1178.09s/it]"
     ]
    },
    {
     "name": "stdout",
     "output_type": "stream",
     "text": [
      "<|system|>You are a helpful assistant.<|end|><|user|>What is the capital of France?<|end|>                                                                                                    \n"
     ]
    },
    {
     "ename": "",
     "evalue": "",
     "output_type": "error",
     "traceback": [
      "\u001b[1;31mThe Kernel crashed while executing code in the current cell or a previous cell. \n",
      "\u001b[1;31mPlease review the code in the cell(s) to identify a possible cause of the failure. \n",
      "\u001b[1;31mClick <a href='https://aka.ms/vscodeJupyterKernelCrash'>here</a> for more info. \n",
      "\u001b[1;31mView Jupyter <a href='command:jupyter.viewOutput'>log</a> for further details."
     ]
    }
   ],
   "source": [
    "\n",
    "model = get_model(\n",
    "    vocab_size=tokenizer.vocab_size(),\n",
    "    context_window_size=128,\n",
    "    n_total_neurons=10_536_000,\n",
    "    output_size=1\n",
    ")\n",
    "\n",
    "print(\"Model initialized\")\n",
    "\n",
    "print(generate(model, tokenizer, \"<|system|>You are a helpful assistant.<|end|>\", \"<|user|>What is the capital of France?<|end|>\", 100))\n",
    "\n",
    "\n",
    "with jsonlines.open(\"./data/data_pairs.jsonl\") as reader:\n",
    "    for idx, obj in tqdm(enumerate(reader)):\n",
    "        system_prompt = obj[\"system_prompt\"]\n",
    "        user_input = obj[\"user_message\"]\n",
    "        assistant_output = obj[\"assistant_message\"]\n",
    "\n",
    "        if system_prompt == []:\n",
    "            system_prompt = tokenizer.encode(\"<|system|>You are a helpful assistant.<|end|>\")\n",
    "        \n",
    "\n",
    "        train_pairs = generate_training_pairs(system_prompt, user_input, assistant_output)\n",
    "\n",
    "        X_ARRAY = [pair[0] for pair in train_pairs]\n",
    "        y_ARRAY = [pair[1] for pair in train_pairs]\n",
    "\n",
    "        train_model(\n",
    "            model=model,\n",
    "            vocab_size=tokenizer.vocab_size(),\n",
    "            X_ARRAY=X_ARRAY,\n",
    "            y_ARRAY=y_ARRAY,\n",
    "            epochs=10,\n",
    "            learning_rate=3e-3\n",
    "        )\n",
    "\n",
    "        print(generate(model, tokenizer, \"<|system|>You are a helpful assistant.<|end|>\", \"<|user|>What is the capital of France?<|end|>\", 100))\n",
    "\n",
    "print(\"Model trained\")\n"
   ]
  },
  {
   "cell_type": "code",
   "execution_count": null,
   "metadata": {},
   "outputs": [],
   "source": [
    "system_prompt = \"<|system|>You are a helpful assistant.<|end|>\"\n",
    "input_str = \"<|user|>\" + str(input(\"User input: \")) + \"<|end|>\"\n",
    "\n",
    "output_str = generate(\n",
    "    model=model,\n",
    "    tokenizer=tokenizer,\n",
    "    system_prompt=\"<|system|>You are a helpful assistant.<|end|>\",\n",
    "    user_input=input_str,\n",
    "    max_tokens=100\n",
    ")\n",
    "\n",
    "print(output_str)"
   ]
  }
 ],
 "metadata": {
  "kernelspec": {
   "display_name": "Python 3 (ipykernel)",
   "language": "python",
   "name": "python3"
  },
  "language_info": {
   "codemirror_mode": {
    "name": "ipython",
    "version": 3
   },
   "file_extension": ".py",
   "mimetype": "text/x-python",
   "name": "python",
   "nbconvert_exporter": "python",
   "pygments_lexer": "ipython3",
   "version": "3.10.6"
  }
 },
 "nbformat": 4,
 "nbformat_minor": 2
}
