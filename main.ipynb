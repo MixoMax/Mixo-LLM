{
 "cells": [
  {
   "cell_type": "markdown",
   "metadata": {},
   "source": [
    "# Mixo-LLM\n",
    "\n",
    "My own LLM (Large Language Model), trained entirely from scratch. I also built the Tokenizer from Scratch"
   ]
  },
  {
   "cell_type": "code",
   "execution_count": 1,
   "metadata": {},
   "outputs": [
    {
     "name": "stdout",
     "output_type": "stream",
     "text": [
      "\u001b[2K   \u001b[91m━━━━━━━━━━━━\u001b[0m\u001b[90m╺\u001b[0m\u001b[90m━━━━━━━━━━━━━━━━━━━━━━━━━━━\u001b[0m \u001b[32m228.2/731.7 MB\u001b[0m \u001b[31m6.8 MB/s\u001b[0m eta \u001b[36m0:01:14\u001b[0m\u001b[31mERROR: Could not install packages due to an OSError: [Errno 28] No space left on device\n",
      "\u001b[0m\u001b[31m\n",
      "\u001b[2K   \u001b[91m━━━━━━━━━━━━\u001b[0m\u001b[90m╺\u001b[0m\u001b[90m━━━━━━━━━━━━━━━━━━━━━━━━━━━\u001b[0m \u001b[32m228.3/731.7 MB\u001b[0m \u001b[31m6.8 MB/s\u001b[0m eta \u001b[36m0:01:14\u001b[0m\n",
      "\u001b[?25hNote: you may need to restart the kernel to use updated packages.\n"
     ]
    }
   ],
   "source": [
    "%pip install requests jsonlines tqdm torch"
   ]
  },
  {
   "cell_type": "code",
   "execution_count": 2,
   "metadata": {},
   "outputs": [],
   "source": [
    "import requests\n",
    "import os\n",
    "import json\n",
    "import jsonlines\n",
    "from tqdm import tqdm\n",
    "import sys\n",
    "import random\n",
    "import fileinput"
   ]
  },
  {
   "cell_type": "code",
   "execution_count": null,
   "metadata": {},
   "outputs": [],
   "source": [
    "dataset_urls = [ #(url, filename)\n",
    "    (\"https://huggingface.co/datasets/nvidia/OpenMathInstruct-1/resolve/main/correct_solutions/train.jsonl?download=true\", \"Nvidia_OpenMathInstruct-1_train.jsonl\"),\n",
    "    (\"https://huggingface.co/datasets/OpenAssistant/oasst1/resolve/main/2023-04-12_oasst_all.messages.jsonl.gz?download=true\", \"OpenAssistant_oasst1_2023-04-12_oasst_all.messages.jsonl.gz\"),\n",
    "    (\"https://huggingface.co/datasets/liuhaotian/LLaVA-Instruct-150K/resolve/main/llava_instruct_150k.json?download=true\", \"LLaVA-Instruct-150K_llava_instruct_150k.json\"),\n",
    "    (\"https://huggingface.co/datasets/liuhaotian/LLaVA-Instruct-150K/resolve/main/llava_v1_5_mix665k.json?download=true\", \"LLaVA-Instruct-150K_llava_v1_5_mix665k.json\"),\n",
    "    (\"https://huggingface.co/datasets/nomic-ai/gpt4all-j-prompt-generations/resolve/main/data/train-00000-of-00004-49a07627b3b5bdbe.parquet?download=true\", \"NomicAI_gpt4all-j-prompt-generations_train-0-of-4.parquet\"),\n",
    "    (\"https://huggingface.co/datasets/nomic-ai/gpt4all-j-prompt-generations/resolve/main/data/train-00001-of-00004-62d2ea1ccbf3c546.parquet?download=true\", \"NomicAI_gpt4all-j-prompt-generations_train-1-of-4.parquet\"),\n",
    "    (\"https://huggingface.co/datasets/nomic-ai/gpt4all-j-prompt-generations/resolve/main/data/train-00002-of-00004-5d4368eca33ee435.parquet?download=true\", \"NomicAI_gpt4all-j-prompt-generations_train-2-of-4.parquet\"),\n",
    "    (\"https://huggingface.co/datasets/nomic-ai/gpt4all-j-prompt-generations/resolve/main/data/train-00003-of-00004-ef0356d35c1172f0.parquet?download=true\", \"NomicAI_gpt4all-j-prompt-generations_train-3-of-4.parquet\"),\n",
    "    (\"https://huggingface.co/datasets/Open-Orca/SlimOrca/resolve/main/oo-labeled_correct.gpt4.sharegpt.jsonl?download=true\", \"Open-Orca_SlimOrca_oo-labeled_correct.gpt4.sharegpt.jsonl\"),\n",
    "    (\"https://huggingface.co/datasets/openbmb/UltraFeedback/resolve/main/ultrachat.jsonl?download=true\", \"OpenBMB_UltraFeedback_ultrachat.jsonl\"),\n",
    "    (\"https://huggingface.co/datasets/openbmb/UltraFeedback/resolve/main/sharegpt.jsonl?download=true\", \"OpenBMB_UltraFeedback_sharegpt.jsonl\")\n",
    "]\n",
    "\n",
    "for url, filename in dataset_urls:\n",
    "    filename = \"./data/\" + filename\n",
    "    if not os.path.exists(filename):\n",
    "        print(f\"Downloading {filename}\")\n",
    "        r = requests.get(url, allow_redirects=True)\n",
    "        open(filename, \"wb\").write(r.content)\n",
    "    else:\n",
    "        print(f\"{filename} already exists\")"
   ]
  },
  {
   "cell_type": "code",
   "execution_count": 3,
   "metadata": {},
   "outputs": [],
   "source": [
    "class Message:\n",
    "    author: str # either \"user\" or \"assistant\"\n",
    "    text: str\n",
    "    def __init__(self, author, text):\n",
    "        self.author = author\n",
    "        self.text = text\n",
    "    \n",
    "    def __str__(self):\n",
    "        return f\"{self.author}: {self.text}\"\n",
    "    \n",
    "    def __hash__(self) -> int:\n",
    "        return hash((self.author, self.text))\n",
    "\n",
    "class Conversation:\n",
    "    messages: list[Message]\n",
    "    system_prompt: str\n",
    "    \n",
    "    def __init__(self, messages, system_prompt=\"\"):\n",
    "        self.messages = messages\n",
    "        self.system_prompt = system_prompt\n",
    "    \n",
    "    def __str__(self):\n",
    "        return self.system_prompt + str(len(self.messages)) + \" messages:\\n\" + \"\\n\".join([str(m) for m in self.messages[:10]]) + \"...\"\n",
    "    \n",
    "    def __hash__(self) -> int:\n",
    "        return hash(tuple(self.messages))\n",
    "    \n",
    "def from_LLava_json(filepath) -> list[Conversation]:\n",
    "    print(f\"Loading {filepath}\")\n",
    "    # [x] working\n",
    "    # LLava json is in this format:\n",
    "    \"\"\"\n",
    "    [\n",
    "        {\n",
    "            \"id\": 0,\n",
    "            \"conversations\": [\n",
    "                {\n",
    "                    \"from\": \"human\",\n",
    "                    \"value\": TEXT\n",
    "                },\n",
    "                {\n",
    "                    \"from\": \"gpt\",\n",
    "                    \"value\": TEXT\n",
    "                }\n",
    "                ...\n",
    "            ]\n",
    "        },\n",
    "        ...\n",
    "    ]\n",
    "    \"\"\"\n",
    "    with open(filepath, \"r\") as f:\n",
    "        data = json.load(f)\n",
    "        conversations = []\n",
    "        for conversation in tqdm(data):\n",
    "            messages = []\n",
    "            for message in conversation[\"conversations\"]:\n",
    "                if message[\"from\"] == \"human\":\n",
    "                    author = \"user\"\n",
    "                else:\n",
    "                    author = \"assistant\"\n",
    "                messages.append(Message(author, message[\"value\"]))\n",
    "            conversations.append(Conversation(messages))\n",
    "    \n",
    "    return conversations\n",
    "\n",
    "def from_Nvidia_OMI_jsonl(filepath) -> list[Conversation]:\n",
    "    print(f\"Loading {filepath}\")\n",
    "    # [x] working\n",
    "    # Nvidia OMI jsonl is in this format:\n",
    "    \"\"\"\n",
    "    {\"question\": TEXT, \"expected_answer\": TEXT}\n",
    "    ...\n",
    "    \"\"\"\n",
    "    with jsonlines.open(filepath) as reader:\n",
    "        conversations = []\n",
    "        for obj in tqdm(reader):\n",
    "            messages = [Message(\"user\", obj[\"question\"]), Message(\"assistant\", obj[\"expected_answer\"])]\n",
    "            conversations.append(Conversation(messages))\n",
    "    return conversations\n",
    "\n",
    "def from_OpenBMB_UltraFeedback_jsonl(filepath) -> list[Conversation]:\n",
    "    print(f\"Loading {filepath}\")\n",
    "    # [x] working\n",
    "    # OpenBMB jsonl is in this format:\n",
    "    \"\"\"\n",
    "    {\"source\": \"sharegpt\", \"instruction\": USER_INPUT, \"completions\": [ {\"response\": ASSISTANT_OUTPUT, \"custom_system_prompt\": SYSTEM_PROMPT}, ... ]}\n",
    "    \"\"\"\n",
    "\n",
    "    with jsonlines.open(filepath) as reader:\n",
    "        conversations = []\n",
    "        for obj in tqdm(reader):\n",
    "            user_message = Message(\"user\", obj[\"instruction\"])\n",
    "            \n",
    "            for completion in obj[\"completions\"]:\n",
    "                assistant_message = Message(\"assistant\", completion[\"response\"])\n",
    "                system_prompt = completion[\"custom_system_prompt\"]\n",
    "                conversations.append(Conversation([user_message, assistant_message], system_prompt))\n",
    "    return conversations\n",
    "\n",
    "def from_OpenOrca_jsonl(filepath) -> list[Conversation]:\n",
    "    print(f\"Loading {filepath}\")\n",
    "    # [ ] working\n",
    "    # OpenOrca jsonl is in this format:\n",
    "    \"\"\"\n",
    "    {\"conversations\": [{\"from\": \"system\", \"value\": SYSTEM_PROMPT}, {\"from\": \"human\", \"value\": USER_INPUT}, {\"from\": \"gpt\", \"value\": ASSISTANT_OUTPUT}]}\n",
    "    \"\"\"\n",
    "    \n",
    "    with jsonlines.open(filepath) as reader:\n",
    "        conversations = []\n",
    "        for obj in tqdm(reader):\n",
    "            messages = []\n",
    "            system_prompt = \"\"\n",
    "            for json_obj in obj[\"conversations\"]:\n",
    "\n",
    "                if json_obj[\"from\"] == \"system\":\n",
    "                    system_prompt = json_obj[\"value\"]\n",
    "                else:\n",
    "                    if json_obj[\"from\"] == \"human\":\n",
    "                        author = \"user\"\n",
    "                    else:\n",
    "                        author = \"assistant\"\n",
    "                    messages.append(Message(author, json_obj[\"value\"]))\n",
    "\n",
    "            conversations.append(Conversation(messages, system_prompt))\n",
    "    return conversations\n",
    "\n",
    "def from_OASST_jsonl(filepath) -> list[Conversation]:\n",
    "    # [ ] working\n",
    "    # OASST jsonl is in this format:\n",
    "    pass\n",
    "\n",
    "def from_own_format(filepath) -> list[Conversation]:\n",
    "    # [ ] working\n",
    "    # own format is in this format:\n",
    "    # {\"system_prompt\": SYSTEM_PROMPT, \"messages\": [{\"author\": \"user\", \"text\": USER_INPUT}, {\"author\": \"assistant\", \"text\": ASSISTANT_OUTPUT}]}\n",
    "\n",
    "    with jsonlines.open(filepath) as reader:\n",
    "        conversations = []\n",
    "        for obj in tqdm(reader):\n",
    "            messages = [Message(m[\"author\"], m[\"text\"]) for m in obj[\"messages\"]]\n",
    "            conversations.append(Conversation(messages, obj[\"system_prompt\"]))\n",
    "    return conversations"
   ]
  },
  {
   "cell_type": "code",
   "execution_count": 3,
   "metadata": {},
   "outputs": [
    {
     "name": "stdout",
     "output_type": "stream",
     "text": [
      "Loading ./data/LLaVA-Instruct-150K_llava_instruct_150k.json\n"
     ]
    },
    {
     "name": "stderr",
     "output_type": "stream",
     "text": [
      "100%|██████████| 157712/157712 [00:02<00:00, 74816.63it/s]\n"
     ]
    },
    {
     "name": "stdout",
     "output_type": "stream",
     "text": [
      "Loading ./data/LLaVA-Instruct-150K_llava_v1_5_mix665k.json\n"
     ]
    },
    {
     "name": "stderr",
     "output_type": "stream",
     "text": [
      "100%|██████████| 665298/665298 [00:17<00:00, 37168.35it/s] \n"
     ]
    },
    {
     "name": "stdout",
     "output_type": "stream",
     "text": [
      "Loading ./data/Nvidia_OpenMathInstruct-1_train.jsonl\n"
     ]
    },
    {
     "name": "stderr",
     "output_type": "stream",
     "text": [
      "1579780it [00:27, 57497.66it/s]\n"
     ]
    },
    {
     "name": "stdout",
     "output_type": "stream",
     "text": [
      "Loading ./data/OpenBMB_UltraFeedback_sharegpt.jsonl\n"
     ]
    },
    {
     "name": "stderr",
     "output_type": "stream",
     "text": [
      "19949it [00:02, 7208.04it/s]\n"
     ]
    },
    {
     "name": "stdout",
     "output_type": "stream",
     "text": [
      "Loading ./data/OpenBMB_UltraFeedback_ultrachat.jsonl\n"
     ]
    },
    {
     "name": "stderr",
     "output_type": "stream",
     "text": [
      "9929it [00:01, 7470.47it/s]\n"
     ]
    },
    {
     "name": "stdout",
     "output_type": "stream",
     "text": [
      "Loading ./data/Open-Orca_SlimOrca_oo-labeled_correct.gpt4.sharegpt.jsonl\n"
     ]
    },
    {
     "name": "stderr",
     "output_type": "stream",
     "text": [
      "517982it [00:14, 35391.36it/s]\n",
      "100%|██████████| 3040280/3040280 [01:14<00:00, 40610.06it/s]\n"
     ]
    },
    {
     "name": "stdout",
     "output_type": "stream",
     "text": [
      "Done!\n"
     ]
    }
   ],
   "source": [
    "# write all conversations to a single jsonl file\n",
    "conversations = []\n",
    "conversations.extend(from_LLava_json(\"./data/LLaVA-Instruct-150K_llava_instruct_150k.json\"))\n",
    "conversations.extend(from_LLava_json(\"./data/LLaVA-Instruct-150K_llava_v1_5_mix665k.json\"))\n",
    "conversations.extend(from_Nvidia_OMI_jsonl(\"./data/Nvidia_OpenMathInstruct-1_train.jsonl\"))\n",
    "conversations.extend(from_OpenBMB_UltraFeedback_jsonl(\"./data/OpenBMB_UltraFeedback_sharegpt.jsonl\"))\n",
    "conversations.extend(from_OpenBMB_UltraFeedback_jsonl(\"./data/OpenBMB_UltraFeedback_ultrachat.jsonl\"))\n",
    "conversations.extend(from_OpenOrca_jsonl(\"./data/Open-Orca_SlimOrca_oo-labeled_correct.gpt4.sharegpt.jsonl\"))\n",
    "\n",
    "with jsonlines.open(\"./data/conversations.jsonl\", \"w\") as writer:\n",
    "    for conversation in tqdm(conversations):\n",
    "        json_obj = {\"system_prompt\": conversation.system_prompt, \"messages\": [{\"author\": m.author, \"text\": m.text} for m in conversation.messages]}\n",
    "        writer.write(json_obj)\n",
    "\n",
    "print(\"Done!\")"
   ]
  },
  {
   "cell_type": "code",
   "execution_count": 4,
   "metadata": {},
   "outputs": [
    {
     "name": "stderr",
     "output_type": "stream",
     "text": [
      "3040280it [01:11, 42597.21it/s] \n"
     ]
    }
   ],
   "source": [
    "conversations = from_own_format(\"./data/conversations.jsonl\")"
   ]
  },
  {
   "cell_type": "code",
   "execution_count": 5,
   "metadata": {},
   "outputs": [
    {
     "name": "stdout",
     "output_type": "stream",
     "text": [
      "3040280\n"
     ]
    }
   ],
   "source": [
    "print(len(conversations))"
   ]
  },
  {
   "cell_type": "code",
   "execution_count": 6,
   "metadata": {},
   "outputs": [
    {
     "name": "stderr",
     "output_type": "stream",
     "text": [
      "100%|██████████| 3040280/3040280 [00:41<00:00, 73736.04it/s] "
     ]
    },
    {
     "name": "stdout",
     "output_type": "stream",
     "text": [
      "2257941\n"
     ]
    },
    {
     "name": "stderr",
     "output_type": "stream",
     "text": [
      "\n"
     ]
    }
   ],
   "source": [
    "# filter out everything that contains \"<image>\" or \"<url>\" and remove duplicates\n",
    "conversations_filtered = set()\n",
    "for conversation in tqdm(conversations):\n",
    "    if \"<image>\" in str(conversation) or \"<url>\" in str(conversation):\n",
    "        continue\n",
    "    conversations_filtered.add(conversation)\n",
    "\n",
    "print(len(conversations_filtered))\n"
   ]
  },
  {
   "cell_type": "code",
   "execution_count": 7,
   "metadata": {},
   "outputs": [
    {
     "name": "stderr",
     "output_type": "stream",
     "text": [
      "100%|██████████| 2257941/2257941 [00:11<00:00, 197732.40it/s]\n",
      "100%|██████████| 690670/690670 [00:03<00:00, 192104.26it/s]\n"
     ]
    }
   ],
   "source": [
    "all_text_arr = set()\n",
    "for conversation in tqdm(conversations_filtered):\n",
    "    convo_arr = []\n",
    "    for message in conversation.messages:\n",
    "        convo_arr.append(\"<|\" + message.author + \"|> \" + message.text.replace(\"\\n\", \"<|br|>\")  + \"<|end|>\")\n",
    "    \n",
    "    convo_str = \"<|system|> \" + conversation.system_prompt.replace(\"\\n\", \"<|br|>\") + \"<|end|>\" + \"\".join(convo_arr)\n",
    "    all_text_arr.add(convo_str)\n",
    "\n",
    "\n",
    "\n",
    "with open(\"./data/all_text.txt\", \"w\", encoding=\"utf-8\") as f:\n",
    "    for line in tqdm(all_text_arr):\n",
    "        f.write(line + \"\\n\")"
   ]
  },
  {
   "cell_type": "code",
   "execution_count": 12,
   "metadata": {},
   "outputs": [
    {
     "name": "stderr",
     "output_type": "stream",
     "text": [
      "  0%|          | 0/690670 [00:00<?, ?it/s]"
     ]
    },
    {
     "name": "stderr",
     "output_type": "stream",
     "text": [
      "100%|██████████| 690670/690670 [07:10<00:00, 1605.20it/s]\n"
     ]
    }
   ],
   "source": [
    "# build a custom tokenizer\n",
    "# generate a vocab list\n",
    "# find the most common words, char combinations and chars\n",
    "\n",
    "vocab = {}\n",
    "for line in tqdm(all_text_arr):\n",
    "    for word in line.split():\n",
    "        vocab[word] = vocab.get(word, 0) + 1\n",
    "    \n",
    "    for char in line:\n",
    "        vocab[char] = vocab.get(char, 0) + 1\n",
    "    \n",
    "    continue\n",
    "\n",
    "    for w_size in range(2, 4):\n",
    "        for i in range(len(line) - w_size):\n",
    "            vocab[line[i:i+w_size]] = vocab.get(line[i:i+w_size], 0) + 1"
   ]
  },
  {
   "cell_type": "code",
   "execution_count": 13,
   "metadata": {},
   "outputs": [],
   "source": [
    "with open(\"./data/vocab.json\", \"w\", encoding=\"utf-8\") as f:\n",
    "    json.dump(vocab, f, ensure_ascii=False, indent=4)"
   ]
  },
  {
   "cell_type": "code",
   "execution_count": 14,
   "metadata": {},
   "outputs": [
    {
     "name": "stderr",
     "output_type": "stream",
     "text": [
      "100%|██████████| 5221896/5221896 [00:02<00:00, 2358671.91it/s]\n"
     ]
    },
    {
     "name": "stdout",
     "output_type": "stream",
     "text": [
      "153331\n"
     ]
    }
   ],
   "source": [
    "vocab_filtered = {}\n",
    "\n",
    "for key, value in tqdm(vocab.items()):\n",
    "    if value > 35:\n",
    "        vocab_filtered[key] = value\n",
    "\n",
    "vocab_filtered = sorted(vocab_filtered.items(), key=lambda x: x[1], reverse=True)\n",
    "\n",
    "print(len(vocab_filtered))\n",
    "\n",
    "max_vocab_size = 32_000\n",
    "vocab_filtered = vocab_filtered[:max_vocab_size]"
   ]
  },
  {
   "cell_type": "code",
   "execution_count": 15,
   "metadata": {},
   "outputs": [],
   "source": [
    "with open(\"./data/vocab_filtered.json\", \"w\", encoding=\"utf-8\") as f:\n",
    "    json.dump(vocab_filtered, f, ensure_ascii=False, indent=4)"
   ]
  },
  {
   "cell_type": "code",
   "execution_count": 16,
   "metadata": {},
   "outputs": [
    {
     "name": "stdout",
     "output_type": "stream",
     "text": [
      "30763\n"
     ]
    }
   ],
   "source": [
    "vocab_final = { # token_str: token_id\n",
    "    \"<|system|>\": 0,\n",
    "    \"<|user|>\": 1,\n",
    "    \"<|assistant|>\": 2,\n",
    "    \"<|end|>\": 3,\n",
    "    \"<|br|>\": 4\n",
    "}\n",
    "for i, (key, value) in enumerate(vocab_filtered):\n",
    "    if \"<\" in key or \">\" in key or \"|\" in key:\n",
    "        continue\n",
    "    vocab_final[key] = len(vocab_final)\n",
    "\n",
    "print(len(vocab_final))\n",
    "\n",
    "with open(\"./data/vocab_final.json\", \"w\", encoding=\"utf-8\") as f:\n",
    "    json.dump(vocab_final, f, ensure_ascii=False, indent=4)"
   ]
  },
  {
   "cell_type": "code",
   "execution_count": 4,
   "metadata": {},
   "outputs": [],
   "source": [
    "# for loading\n",
    "vocab_final = json.load(open(\"./data/vocab_final.json\", \"r\", encoding=\"utf-8\"))"
   ]
  },
  {
   "cell_type": "code",
   "execution_count": 5,
   "metadata": {},
   "outputs": [],
   "source": [
    "class Tokenizer:\n",
    "    __vocab: dict[str, int]\n",
    "    __vocab_reversed: dict[int, str]\n",
    "    __vocab_size: int\n",
    "\n",
    "    def __init__(self, vocab: dict[str, int]):\n",
    "        self.__vocab = vocab\n",
    "        self.__vocab_reversed = {v: k for k, v in vocab.items()}\n",
    "        self.__vocab_size = len(vocab)\n",
    "    \n",
    "    def encode(self, text: str) -> list[int]:\n",
    "        out_tokens = []\n",
    "        \n",
    "        current_substring = \"\"\n",
    "        for char in text:\n",
    "            current_substring += char\n",
    "            if current_substring in self.__vocab:\n",
    "                out_tokens.append(self.__vocab[current_substring])\n",
    "                current_substring = \"\"\n",
    "        \n",
    "        return out_tokens\n",
    "    \n",
    "    def decode(self, tokens: list[int]) -> str:\n",
    "        return \"\".join([self.__vocab_reversed[t] for t in tokens])\n",
    "    \n",
    "    def vocab_size(self) -> int:\n",
    "        return self.__vocab_size"
   ]
  },
  {
   "cell_type": "code",
   "execution_count": 20,
   "metadata": {},
   "outputs": [
    {
     "name": "stderr",
     "output_type": "stream",
     "text": [
      "14067it [00:08, 1668.05it/s]\n"
     ]
    },
    {
     "ename": "KeyboardInterrupt",
     "evalue": "",
     "output_type": "error",
     "traceback": [
      "\u001b[0;31m---------------------------------------------------------------------------\u001b[0m",
      "\u001b[0;31mKeyboardInterrupt\u001b[0m                         Traceback (most recent call last)",
      "Cell \u001b[0;32mIn[20], line 11\u001b[0m\n\u001b[1;32m      9\u001b[0m \u001b[38;5;28;01mwith\u001b[39;00m fileinput\u001b[38;5;241m.\u001b[39minput(files\u001b[38;5;241m=\u001b[39m(\u001b[38;5;124m\"\u001b[39m\u001b[38;5;124m./data/all_text.txt\u001b[39m\u001b[38;5;124m\"\u001b[39m), encoding\u001b[38;5;241m=\u001b[39m\u001b[38;5;124m\"\u001b[39m\u001b[38;5;124mutf-8\u001b[39m\u001b[38;5;124m\"\u001b[39m) \u001b[38;5;28;01mas\u001b[39;00m f:\n\u001b[1;32m     10\u001b[0m     \u001b[38;5;28;01mfor\u001b[39;00m line \u001b[38;5;129;01min\u001b[39;00m tqdm(f):\n\u001b[0;32m---> 11\u001b[0m         tokens \u001b[38;5;241m=\u001b[39m \u001b[43mtokenizer\u001b[49m\u001b[38;5;241;43m.\u001b[39;49m\u001b[43mencode\u001b[49m\u001b[43m(\u001b[49m\u001b[43mline\u001b[49m\u001b[43m)\u001b[49m\n\u001b[1;32m     13\u001b[0m         \u001b[38;5;66;03m# find system token\u001b[39;00m\n\u001b[1;32m     14\u001b[0m         \u001b[38;5;28;01mif\u001b[39;00m \u001b[38;5;241m0\u001b[39m \u001b[38;5;129;01mnot\u001b[39;00m \u001b[38;5;129;01min\u001b[39;00m tokens:\n",
      "Cell \u001b[0;32mIn[19]\u001b[0m, in \u001b[0;36mTokenizer.encode\u001b[0;34m(self, text)\u001b[0m\n\u001b[1;32m      0\u001b[0m <Error retrieving source code with stack_data see ipython/ipython#13598>\n",
      "\u001b[0;31mKeyboardInterrupt\u001b[0m: "
     ]
    }
   ],
   "source": [
    "# Phase 3:\n",
    "# Tokenize the text\n",
    "# generate training pairs\n",
    "\n",
    "tokenizer = Tokenizer(vocab_final)\n",
    "\n",
    "data_pairs = []\n",
    "\n",
    "with fileinput.input(files=(\"./data/all_text.txt\"), encoding=\"utf-8\") as f:\n",
    "    for line in tqdm(f):\n",
    "        tokens = tokenizer.encode(line)\n",
    "\n",
    "        # find system token\n",
    "        if 0 not in tokens:\n",
    "            system_prompt = []\n",
    "            system_token_idx = 0\n",
    "        else:\n",
    "            system_token_idx = tokens.index(0)\n",
    "            system_prompt = tokens[:system_token_idx]\n",
    "        \n",
    "        # find user token\n",
    "        if 1 not in tokens:\n",
    "            user_token_idx = system_token_idx\n",
    "            user_message = []\n",
    "        else:\n",
    "            user_token_idx = tokens.index(1)\n",
    "            user_message = tokens[system_token_idx:user_token_idx]\n",
    "        \n",
    "        # find assistant token\n",
    "        if 2 not in tokens:\n",
    "            assistant_token_idx = user_token_idx\n",
    "            assistant_message = []\n",
    "        else:\n",
    "            assistant_token_idx = tokens.index(2)\n",
    "            assistant_message = tokens[user_token_idx:assistant_token_idx]\n",
    "        \n",
    "        data_pairs.append((system_prompt, user_message, assistant_message))\n",
    "\n",
    "# save to jsonl\n",
    "with jsonlines.open(\"./data/data_pairs.jsonl\", \"w\") as writer:\n",
    "    for pair in tqdm(data_pairs):\n",
    "        writer.write({\"system_prompt\": pair[0], \"user_message\": pair[1], \"assistant_message\": pair[2]})"
   ]
  },
  {
   "cell_type": "code",
   "execution_count": 6,
   "metadata": {},
   "outputs": [],
   "source": [
    "def generate_training_pairs(system_prompt_tokens, user_input_tokens, assistant_output_tokens):\n",
    "    # generate all substrings of the assistant output from 1 to len\n",
    "\n",
    "    training_pairs = []\n",
    "    for i in range(1, len(assistant_output_tokens)):\n",
    "        X = system_prompt_tokens + user_input_tokens + assistant_output_tokens[:i]\n",
    "        y = assistant_output_tokens[i]\n",
    "        training_pairs.append((X, y))\n",
    "    \n",
    "    return training_pairs"
   ]
  },
  {
   "cell_type": "code",
   "execution_count": 22,
   "metadata": {},
   "outputs": [
    {
     "ename": "ModuleNotFoundError",
     "evalue": "No module named 'torch'",
     "output_type": "error",
     "traceback": [
      "\u001b[0;31m---------------------------------------------------------------------------\u001b[0m",
      "\u001b[0;31mModuleNotFoundError\u001b[0m                       Traceback (most recent call last)",
      "Cell \u001b[0;32mIn[22], line 5\u001b[0m\n\u001b[1;32m      1\u001b[0m \u001b[38;5;66;03m# Phase 4:\u001b[39;00m\n\u001b[1;32m      2\u001b[0m \u001b[38;5;66;03m# Train a model\u001b[39;00m\n\u001b[1;32m      3\u001b[0m \u001b[38;5;66;03m# model is trained on the generated training pairs\u001b[39;00m\n\u001b[0;32m----> 5\u001b[0m \u001b[38;5;28;01mimport\u001b[39;00m \u001b[38;5;21;01mtorch\u001b[39;00m\n\u001b[1;32m      6\u001b[0m \u001b[38;5;28;01mimport\u001b[39;00m \u001b[38;5;21;01mtorch\u001b[39;00m\u001b[38;5;21;01m.\u001b[39;00m\u001b[38;5;21;01mnn\u001b[39;00m \u001b[38;5;28;01mas\u001b[39;00m \u001b[38;5;21;01mnn\u001b[39;00m\n\u001b[1;32m      7\u001b[0m \u001b[38;5;28;01mimport\u001b[39;00m \u001b[38;5;21;01mrandom\u001b[39;00m\n",
      "\u001b[0;31mModuleNotFoundError\u001b[0m: No module named 'torch'"
     ]
    }
   ],
   "source": [
    "# Phase 4:\n",
    "# Train a model\n",
    "# model is trained on the generated training pairs\n",
    "\n",
    "import torch\n",
    "import torch.nn as nn\n",
    "import random\n",
    "\n",
    "class Network(nn.Module):\n",
    "    # Linear Transformer\n",
    "    # using Dense and Dropout layers\n",
    "    # softmax at the end\n",
    "\n",
    "    def __init__(self, vocab_size, num_neurons, num_layers, dropout, output_n_tokens):\n",
    "        self.vocab_size = vocab_size\n",
    "        self.context_window = num_neurons\n",
    "        \n",
    "        super(Network, self).__init__()\n",
    "\n",
    "        self.layers = nn.ModuleList()\n",
    "        \n",
    "        #input layer (context window, vocab_size)\n",
    "        self.layers.append(nn.Linear(self.context_window, self.vocab_size))\n",
    "\n",
    "        # hidden layers\n",
    "        for _ in range(num_layers // 2):\n",
    "            self.layers.append(nn.Linear(num_neurons, num_neurons))\n",
    "            self.layers.append(nn.Dropout(dropout))\n",
    "        \n",
    "        self.layers.append(nn.Linear(self.vocab_size, self.vocab_size))\n",
    "\n",
    "        for _ in range(num_layers // 2):\n",
    "            self.layers.append(nn.Linear(num_neurons, num_neurons))\n",
    "            self.layers.append(nn.Dropout(dropout))\n",
    "        \n",
    "        # output layer (vocab_size, output_n_tokens)\n",
    "        self.layers.append(nn.Linear(self.vocab_size, output_n_tokens))\n",
    "        self.layers.append(nn.Softmax(dim=1))\n",
    "\n",
    "\n",
    "\n",
    "    \n",
    "    def forward(self, x):\n",
    "        x_input = torch.zeros((self.context_window, self.vocab_size))\n",
    "        for i, token in enumerate(x):\n",
    "            x_input[i, int(token)] = 1\n",
    "\n",
    "        # rotate 90 degrees\n",
    "        x_input = torch.rot90(x_input, 1, [0, 1])\n",
    "        \n",
    "        \n",
    "        # truncate from the left\n",
    "        if len(x_input) > self.context_window:\n",
    "            x_input = x_input[-self.context_window:]\n",
    "        \n",
    "        \n",
    "        for idx, layer in enumerate(self.layers):\n",
    "            print(x_input.shape)\n",
    "            \n",
    "            # if we are at one of the midle layers with shape (num_neurons, num_neurons)\n",
    "            # idx is in between 1 and len(self.layers) - 2\n",
    "            # not including the 1\n",
    "            if idx > 1 and idx < len(self.layers) - 2:\n",
    "                # squeeze the input to num_neurons, num_neurons\n",
    "                x_input = x_input.squeeze()\n",
    "                \n",
    "\n",
    "            x_input = layer(x_input)\n",
    "        \n",
    "        x_input = x_input.squeeze()\n",
    "        \n",
    "        return torch.argmax(x_input)\n",
    "    \n",
    "    \n",
    "    def generate(self, system_prompt, user_input, max_len):\n",
    "        # generate a response\n",
    "        # system_prompt and user_input are lists of tokens\n",
    "        # max_len is the maximum length of the response\n",
    "\n",
    "        x: list[int] = system_prompt + user_input\n",
    "        for _ in range(max_len):\n",
    "            y = self.forward(x)\n",
    "            x.append(y)\n",
    "        \n",
    "        return x\n",
    "    \n",
    "    def train(self, X_arr, y_arr, train_lr, epochs, batch_size):\n",
    "        # train the model\n",
    "        # X_arr and y_arr are lists of tuples\n",
    "        # each tuple contains a list of tokens and a single token\n",
    "        # X_arr is the input and y_arr is the output\n",
    "\n",
    "        criterion = nn.CrossEntropyLoss()\n",
    "        optimizer = torch.optim.Adam(self.parameters(), lr=train_lr)\n",
    "\n",
    "        for epoch in range(epochs):\n",
    "            epoch_loss = 0.0\n",
    "\n",
    "            combined_data = list(zip(X_arr, y_arr))\n",
    "            random.shuffle(combined_data)\n",
    "            X_arr, y_arr = zip(*combined_data)\n",
    "\n",
    "            # Mini-batch training\n",
    "            for i in range(0, len(X_arr), batch_size):\n",
    "                optimizer.zero_grad()\n",
    "                \n",
    "                X_batch = X_arr[i:i+batch_size]\n",
    "                y_batch = y_arr[i:i+batch_size]\n",
    "\n",
    "\n",
    "                max_len = max([len(x) for x in X_batch])\n",
    "\n",
    "                x_batch_padded = []\n",
    "                for x in X_batch:\n",
    "                    x_batch_padded.append(x + [0] * (max_len - len(x)))\n",
    "\n",
    "                x_tensors = [torch.tensor(x, dtype=torch.float32) for x in x_batch_padded]\n",
    "\n",
    "                inputs = torch.stack(x_tensors)\n",
    "\n",
    "                max_len_y = max([len(y) for y in y_batch])\n",
    "                y_batch_padded = []\n",
    "                for y in y_batch:\n",
    "                    y_batch_padded.append(y + [0] * (max_len_y - len(y)))\n",
    "                \n",
    "                y_tensors = [torch.tensor([y], dtype=torch.long) for y in y_batch_padded]\n",
    "                targets = torch.stack(y_tensors)\n",
    "\n",
    "\n",
    "\n",
    "                outputs = [self.forward(x) for x in inputs]\n",
    "                loss = criterion(outputs, targets)\n",
    "                epoch_loss += loss.item()\n",
    "\n",
    "                loss.backward()\n",
    "                optimizer.step()\n",
    "            \n",
    "            print(f\"Epoch {epoch + 1} loss: {epoch_loss / len(X_arr)}\")"
   ]
  },
  {
   "cell_type": "code",
   "execution_count": 7,
   "metadata": {},
   "outputs": [],
   "source": [
    "tokenizer = Tokenizer(vocab_final)"
   ]
  },
  {
   "cell_type": "code",
   "execution_count": null,
   "metadata": {},
   "outputs": [],
   "source": [
    "model = Network(tokenizer.vocab_size(), 256, 3, 0.2)\n",
    "\n",
    "print(\"Model initialized\")\n",
    "\n",
    "batch_size = 32\n",
    "train_lr = 0.001\n",
    "epochs = 10\n",
    "\n",
    "with jsonlines.open(\"./data/data_pairs.jsonl\") as reader:\n",
    "    X_arr = []\n",
    "    y_arr = []\n",
    "    for obj in tqdm(reader):\n",
    "        X_arr.append(obj[\"system_prompt\"] + obj[\"user_message\"])\n",
    "        y_arr.append(obj[\"assistant_message\"])\n",
    "\n",
    "        if len(X_arr) == batch_size:\n",
    "            model.train(X_arr, y_arr, train_lr, epochs, batch_size)\n",
    "            X_arr = []\n",
    "            y_arr = []\n"
   ]
  },
  {
   "cell_type": "code",
   "execution_count": 76,
   "metadata": {},
   "outputs": [
    {
     "name": "stdout",
     "output_type": "stream",
     "text": [
      "question. an people answer information. like some hypothesis information. think de no and complete first many answer information two give both assistant her "
     ]
    }
   ],
   "source": [
    "n = 50\n",
    "tokens_out = []\n",
    "for _ in range(n):\n",
    "    random_token_id = int(abs(random.gauss(100, 100)))\n",
    "    tokens_out.append(random_token_id)\n",
    "\n",
    "for token in tokens_out:\n",
    "    txt = tokenizer.decode([token])\n",
    "\n",
    "    if len(txt) != 1:\n",
    "        print(txt, end = \" \")"
   ]
  },
  {
   "cell_type": "code",
   "execution_count": 78,
   "metadata": {},
   "outputs": [
    {
     "name": "stdout",
     "output_type": "stream",
     "text": [
      "223 question.\n",
      "---\n",
      "71 an\n",
      "---\n",
      "36 I\n",
      "---\n",
      "10 i\n",
      "---\n",
      "125 people\n",
      "---\n",
      "43 '\n",
      "---\n",
      "51 )\n",
      "---\n",
      "98 answer\n",
      "---\n",
      "229 information.\n",
      "---\n",
      "220 é\n",
      "---\n",
      "131 like\n",
      "---\n",
      "171 some\n",
      "---\n",
      "214 hypothesis\n",
      "---\n",
      "229 information.\n",
      "---\n",
      "133 think\n",
      "---\n",
      "72 =\n",
      "---\n",
      "225 de\n",
      "---\n",
      "232 no\n",
      "---\n",
      "100 6\n",
      "---\n",
      "304 –\n",
      "---\n",
      "9 n\n",
      "---\n",
      "220 é\n",
      "---\n",
      "129 ]\n",
      "---\n",
      "31 and\n",
      "---\n",
      "238 complete\n",
      "---\n",
      "45 1\n",
      "---\n",
      "92 9\n",
      "---\n",
      "166 first\n",
      "---\n",
      "210 many\n",
      "---\n",
      "98 answer\n",
      "---\n",
      "156 information\n",
      "---\n",
      "61 H\n",
      "---\n",
      "157 two\n",
      "---\n",
      "78 F\n",
      "---\n",
      "190 }\n",
      "---\n",
      "134 give\n",
      "---\n",
      "227 both\n",
      "---\n",
      "36 I\n",
      "---\n",
      "164 !\n",
      "---\n",
      "181 assistant\n",
      "---\n",
      "84 5\n",
      "---\n",
      "12 o\n",
      "---\n",
      "84 5\n",
      "---\n",
      "76 3\n",
      "---\n",
      "283 ，\n",
      "---\n",
      "124 her\n",
      "---\n",
      "49 2\n",
      "---\n",
      "46 C\n",
      "---\n",
      "9 n\n",
      "---\n",
      "76 3\n",
      "---\n"
     ]
    }
   ],
   "source": [
    "for token in tokens_out:\n",
    "    print(token, tokenizer.decode([token]))\n",
    "    print(\"---\")"
   ]
  }
 ],
 "metadata": {
  "kernelspec": {
   "display_name": "Python 3 (ipykernel)",
   "language": "python",
   "name": "python3"
  },
  "language_info": {
   "codemirror_mode": {
    "name": "ipython",
    "version": 3
   },
   "file_extension": ".py",
   "mimetype": "text/x-python",
   "name": "python",
   "nbconvert_exporter": "python",
   "pygments_lexer": "ipython3",
   "version": "3.11.7"
  }
 },
 "nbformat": 4,
 "nbformat_minor": 2
}
